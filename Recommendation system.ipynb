{
 "cells": [
  {
   "cell_type": "code",
   "execution_count": null,
   "metadata": {
    "collapsed": true
   },
   "outputs": [],
   "source": [
    "import PIL \n",
    "from PIL import Image\n",
    "import pandas aqs pd\n",
    "import glob\n",
    "import os\n",
    "import altair as alt\n",
    "import seaborn as sns\n",
    "import numpy as np\n",
    "import re"
   ]
  },
  {
   "cell_type": "code",
   "execution_count": null,
   "metadata": {
    "collapsed": true,
    "deletable": true,
    "editable": true
   },
   "outputs": [],
   "source": [
    "import matplotlib.pyplot as plt\n",
    "%matplotlib inline\n",
    "from sklearn.model_selection import train_test_split"
   ]
  },
  {
   "cell_type": "code",
   "execution_count": null,
   "metadata": {
    "collapsed": false,
    "deletable": true,
    "editable": true
   },
   "outputs": [],
   "source": [
    "import numpy as np\n",
    "import keras"
   ]
  },
  {
   "cell_type": "code",
   "execution_count": 4,
   "metadata": {
    "collapsed": true,
    "deletable": true,
    "editable": true
   },
   "outputs": [],
   "source": [
    "from sklearn.neighbors import KNeighborsClassifier"
   ]
  },
  {
   "cell_type": "code",
   "execution_count": 5,
   "metadata": {
    "collapsed": true,
    "deletable": true,
    "editable": true
   },
   "outputs": [],
   "source": [
    "from keras.models import Sequential\n",
    "from keras.layers import Conv2D, Dense, Flatten, MaxPooling2D\n",
    "from keras.layers import BatchNormalization, Activation, Dropout\n",
    "from keras.preprocessing.image import ImageDataGenerator\n",
    "from keras.callbacks import ModelCheckpoint"
   ]
  },
  {
   "cell_type": "code",
   "execution_count": 6,
   "metadata": {
    "collapsed": true,
    "deletable": true,
    "editable": true
   },
   "outputs": [],
   "source": [
    "import sys\n",
    "from PIL import Image\n",
    "sys.modules['Image'] = Image \n",
    "import cv2 as cv\n",
    "import tensorflow as tf\n",
    "import keras.backend as K"
   ]
  },
  {
   "cell_type": "code",
   "execution_count": 7,
   "metadata": {
    "collapsed": true,
    "deletable": true,
    "editable": true
   },
   "outputs": [],
   "source": [
    "from keras import regularizers\n",
    "from time import time\n",
    "from sklearn.cluster import KMeans\n",
    "from keras import callbacks\n",
    "from keras.models import Model\n",
    "from keras.optimizers import SGD\n",
    "from keras.layers import Dense, Input\n",
    "from keras.initializers import VarianceScaling\n",
    "from keras.engine.topology import Layer, InputSpec\n",
    "import sklearn.metrics as metrics\n",
    "from sklearn.metrics import accuracy_score, normalized_mutual_info_score\n",
    "from keras.layers import Dense,GlobalAveragePooling2D\n",
    "from keras.preprocessing.image import load_img\n",
    "from keras.applications.vgg16 import VGG16"
   ]
  },
  {
   "cell_type": "code",
   "execution_count": 8,
   "metadata": {
    "collapsed": true,
    "deletable": true,
    "editable": true
   },
   "outputs": [],
   "source": [
    "image_path=glob.glob(\"apparel dataset//*//*\")"
   ]
  },
  {
   "cell_type": "markdown",
   "metadata": {
    "deletable": true,
    "editable": true
   },
   "source": [
    "### Extracting the Folder names from the image path"
   ]
  },
  {
   "cell_type": "code",
   "execution_count": 9,
   "metadata": {
    "collapsed": true,
    "deletable": true,
    "editable": true
   },
   "outputs": [],
   "source": [
    "category_names=[]\n",
    "for f in glob.glob(\"apparel dataset//*//*\"):\n",
    "    path = os.path.split(f)[-2]\n",
    "    category_names.append(path)"
   ]
  },
  {
   "cell_type": "code",
   "execution_count": 10,
   "metadata": {
    "collapsed": false,
    "deletable": true,
    "editable": true
   },
   "outputs": [
    {
     "data": {
      "text/plain": [
       "['apparel dataset\\\\black_dress',\n",
       " 'apparel dataset\\\\black_dress',\n",
       " 'apparel dataset\\\\black_dress',\n",
       " 'apparel dataset\\\\black_dress',\n",
       " 'apparel dataset\\\\black_dress',\n",
       " 'apparel dataset\\\\black_dress',\n",
       " 'apparel dataset\\\\black_dress',\n",
       " 'apparel dataset\\\\black_dress',\n",
       " 'apparel dataset\\\\black_dress',\n",
       " 'apparel dataset\\\\black_dress',\n",
       " 'apparel dataset\\\\black_dress',\n",
       " 'apparel dataset\\\\black_dress',\n",
       " 'apparel dataset\\\\black_dress',\n",
       " 'apparel dataset\\\\black_dress',\n",
       " 'apparel dataset\\\\black_dress',\n",
       " 'apparel dataset\\\\black_dress',\n",
       " 'apparel dataset\\\\black_dress',\n",
       " 'apparel dataset\\\\black_dress',\n",
       " 'apparel dataset\\\\black_dress',\n",
       " 'apparel dataset\\\\black_dress',\n",
       " 'apparel dataset\\\\black_dress',\n",
       " 'apparel dataset\\\\black_dress',\n",
       " 'apparel dataset\\\\black_dress',\n",
       " 'apparel dataset\\\\black_dress',\n",
       " 'apparel dataset\\\\black_dress',\n",
       " 'apparel dataset\\\\black_dress',\n",
       " 'apparel dataset\\\\black_dress',\n",
       " 'apparel dataset\\\\black_dress',\n",
       " 'apparel dataset\\\\black_dress',\n",
       " 'apparel dataset\\\\black_dress',\n",
       " 'apparel dataset\\\\black_dress',\n",
       " 'apparel dataset\\\\black_dress',\n",
       " 'apparel dataset\\\\black_dress',\n",
       " 'apparel dataset\\\\black_dress',\n",
       " 'apparel dataset\\\\black_dress',\n",
       " 'apparel dataset\\\\black_dress',\n",
       " 'apparel dataset\\\\black_dress',\n",
       " 'apparel dataset\\\\black_dress',\n",
       " 'apparel dataset\\\\black_dress',\n",
       " 'apparel dataset\\\\black_dress',\n",
       " 'apparel dataset\\\\black_dress',\n",
       " 'apparel dataset\\\\black_dress',\n",
       " 'apparel dataset\\\\black_dress',\n",
       " 'apparel dataset\\\\black_dress',\n",
       " 'apparel dataset\\\\black_dress',\n",
       " 'apparel dataset\\\\black_dress',\n",
       " 'apparel dataset\\\\black_dress',\n",
       " 'apparel dataset\\\\black_dress',\n",
       " 'apparel dataset\\\\black_dress',\n",
       " 'apparel dataset\\\\black_dress',\n",
       " 'apparel dataset\\\\black_dress',\n",
       " 'apparel dataset\\\\black_dress',\n",
       " 'apparel dataset\\\\black_dress',\n",
       " 'apparel dataset\\\\black_dress',\n",
       " 'apparel dataset\\\\black_dress',\n",
       " 'apparel dataset\\\\black_dress',\n",
       " 'apparel dataset\\\\black_dress',\n",
       " 'apparel dataset\\\\black_dress',\n",
       " 'apparel dataset\\\\black_dress',\n",
       " 'apparel dataset\\\\black_dress',\n",
       " 'apparel dataset\\\\black_dress',\n",
       " 'apparel dataset\\\\black_dress',\n",
       " 'apparel dataset\\\\black_dress',\n",
       " 'apparel dataset\\\\black_dress',\n",
       " 'apparel dataset\\\\black_dress',\n",
       " 'apparel dataset\\\\black_dress',\n",
       " 'apparel dataset\\\\black_dress',\n",
       " 'apparel dataset\\\\black_dress',\n",
       " 'apparel dataset\\\\black_dress',\n",
       " 'apparel dataset\\\\black_dress',\n",
       " 'apparel dataset\\\\black_dress',\n",
       " 'apparel dataset\\\\black_dress',\n",
       " 'apparel dataset\\\\black_dress',\n",
       " 'apparel dataset\\\\black_dress',\n",
       " 'apparel dataset\\\\black_dress',\n",
       " 'apparel dataset\\\\black_dress',\n",
       " 'apparel dataset\\\\black_dress',\n",
       " 'apparel dataset\\\\black_dress',\n",
       " 'apparel dataset\\\\black_dress',\n",
       " 'apparel dataset\\\\black_dress',\n",
       " 'apparel dataset\\\\black_dress',\n",
       " 'apparel dataset\\\\black_dress',\n",
       " 'apparel dataset\\\\black_dress',\n",
       " 'apparel dataset\\\\black_dress',\n",
       " 'apparel dataset\\\\black_dress',\n",
       " 'apparel dataset\\\\black_dress',\n",
       " 'apparel dataset\\\\black_dress',\n",
       " 'apparel dataset\\\\black_dress',\n",
       " 'apparel dataset\\\\black_dress',\n",
       " 'apparel dataset\\\\black_dress',\n",
       " 'apparel dataset\\\\black_dress',\n",
       " 'apparel dataset\\\\black_dress',\n",
       " 'apparel dataset\\\\black_dress',\n",
       " 'apparel dataset\\\\black_dress',\n",
       " 'apparel dataset\\\\black_dress',\n",
       " 'apparel dataset\\\\black_dress',\n",
       " 'apparel dataset\\\\black_dress',\n",
       " 'apparel dataset\\\\black_dress',\n",
       " 'apparel dataset\\\\black_dress',\n",
       " 'apparel dataset\\\\black_dress',\n",
       " 'apparel dataset\\\\black_dress',\n",
       " 'apparel dataset\\\\black_dress',\n",
       " 'apparel dataset\\\\black_dress',\n",
       " 'apparel dataset\\\\black_dress',\n",
       " 'apparel dataset\\\\black_dress',\n",
       " 'apparel dataset\\\\black_dress',\n",
       " 'apparel dataset\\\\black_dress',\n",
       " 'apparel dataset\\\\black_dress',\n",
       " 'apparel dataset\\\\black_dress',\n",
       " 'apparel dataset\\\\black_dress',\n",
       " 'apparel dataset\\\\black_dress',\n",
       " 'apparel dataset\\\\black_dress',\n",
       " 'apparel dataset\\\\black_dress',\n",
       " 'apparel dataset\\\\black_dress',\n",
       " 'apparel dataset\\\\black_dress',\n",
       " 'apparel dataset\\\\black_dress',\n",
       " 'apparel dataset\\\\black_dress',\n",
       " 'apparel dataset\\\\black_dress',\n",
       " 'apparel dataset\\\\black_dress',\n",
       " 'apparel dataset\\\\black_dress',\n",
       " 'apparel dataset\\\\black_dress',\n",
       " 'apparel dataset\\\\black_dress',\n",
       " 'apparel dataset\\\\black_dress',\n",
       " 'apparel dataset\\\\black_dress',\n",
       " 'apparel dataset\\\\black_dress',\n",
       " 'apparel dataset\\\\black_dress',\n",
       " 'apparel dataset\\\\black_dress',\n",
       " 'apparel dataset\\\\black_dress',\n",
       " 'apparel dataset\\\\black_dress',\n",
       " 'apparel dataset\\\\black_dress',\n",
       " 'apparel dataset\\\\black_dress',\n",
       " 'apparel dataset\\\\black_dress',\n",
       " 'apparel dataset\\\\black_dress',\n",
       " 'apparel dataset\\\\black_dress',\n",
       " 'apparel dataset\\\\black_dress',\n",
       " 'apparel dataset\\\\black_dress',\n",
       " 'apparel dataset\\\\black_dress',\n",
       " 'apparel dataset\\\\black_dress',\n",
       " 'apparel dataset\\\\black_dress',\n",
       " 'apparel dataset\\\\black_dress',\n",
       " 'apparel dataset\\\\black_dress',\n",
       " 'apparel dataset\\\\black_dress',\n",
       " 'apparel dataset\\\\black_dress',\n",
       " 'apparel dataset\\\\black_dress',\n",
       " 'apparel dataset\\\\black_dress',\n",
       " 'apparel dataset\\\\black_dress',\n",
       " 'apparel dataset\\\\black_dress',\n",
       " 'apparel dataset\\\\black_dress',\n",
       " 'apparel dataset\\\\black_dress',\n",
       " 'apparel dataset\\\\black_dress',\n",
       " 'apparel dataset\\\\black_dress',\n",
       " 'apparel dataset\\\\black_dress',\n",
       " 'apparel dataset\\\\black_dress',\n",
       " 'apparel dataset\\\\black_dress',\n",
       " 'apparel dataset\\\\black_dress',\n",
       " 'apparel dataset\\\\black_dress',\n",
       " 'apparel dataset\\\\black_dress',\n",
       " 'apparel dataset\\\\black_dress',\n",
       " 'apparel dataset\\\\black_dress',\n",
       " 'apparel dataset\\\\black_dress',\n",
       " 'apparel dataset\\\\black_dress',\n",
       " 'apparel dataset\\\\black_dress',\n",
       " 'apparel dataset\\\\black_dress',\n",
       " 'apparel dataset\\\\black_dress',\n",
       " 'apparel dataset\\\\black_dress',\n",
       " 'apparel dataset\\\\black_dress',\n",
       " 'apparel dataset\\\\black_dress',\n",
       " 'apparel dataset\\\\black_dress',\n",
       " 'apparel dataset\\\\black_dress',\n",
       " 'apparel dataset\\\\black_dress',\n",
       " 'apparel dataset\\\\black_dress',\n",
       " 'apparel dataset\\\\black_dress',\n",
       " 'apparel dataset\\\\black_dress',\n",
       " 'apparel dataset\\\\black_dress',\n",
       " 'apparel dataset\\\\black_dress',\n",
       " 'apparel dataset\\\\black_dress',\n",
       " 'apparel dataset\\\\black_dress',\n",
       " 'apparel dataset\\\\black_dress',\n",
       " 'apparel dataset\\\\black_dress',\n",
       " 'apparel dataset\\\\black_dress',\n",
       " 'apparel dataset\\\\black_dress',\n",
       " 'apparel dataset\\\\black_dress',\n",
       " 'apparel dataset\\\\black_dress',\n",
       " 'apparel dataset\\\\black_dress',\n",
       " 'apparel dataset\\\\black_dress',\n",
       " 'apparel dataset\\\\black_dress',\n",
       " 'apparel dataset\\\\black_dress',\n",
       " 'apparel dataset\\\\black_dress',\n",
       " 'apparel dataset\\\\black_dress',\n",
       " 'apparel dataset\\\\black_dress',\n",
       " 'apparel dataset\\\\black_dress',\n",
       " 'apparel dataset\\\\black_dress',\n",
       " 'apparel dataset\\\\black_dress',\n",
       " 'apparel dataset\\\\black_dress',\n",
       " 'apparel dataset\\\\black_dress',\n",
       " 'apparel dataset\\\\black_dress',\n",
       " 'apparel dataset\\\\black_dress',\n",
       " 'apparel dataset\\\\black_dress',\n",
       " 'apparel dataset\\\\black_dress',\n",
       " 'apparel dataset\\\\black_dress',\n",
       " 'apparel dataset\\\\black_dress',\n",
       " 'apparel dataset\\\\black_dress',\n",
       " 'apparel dataset\\\\black_dress',\n",
       " 'apparel dataset\\\\black_dress',\n",
       " 'apparel dataset\\\\black_dress',\n",
       " 'apparel dataset\\\\black_dress',\n",
       " 'apparel dataset\\\\black_dress',\n",
       " 'apparel dataset\\\\black_dress',\n",
       " 'apparel dataset\\\\black_dress',\n",
       " 'apparel dataset\\\\black_dress',\n",
       " 'apparel dataset\\\\black_dress',\n",
       " 'apparel dataset\\\\black_dress',\n",
       " 'apparel dataset\\\\black_dress',\n",
       " 'apparel dataset\\\\black_dress',\n",
       " 'apparel dataset\\\\black_dress',\n",
       " 'apparel dataset\\\\black_dress',\n",
       " 'apparel dataset\\\\black_dress',\n",
       " 'apparel dataset\\\\black_dress',\n",
       " 'apparel dataset\\\\black_dress',\n",
       " 'apparel dataset\\\\black_dress',\n",
       " 'apparel dataset\\\\black_dress',\n",
       " 'apparel dataset\\\\black_dress',\n",
       " 'apparel dataset\\\\black_dress',\n",
       " 'apparel dataset\\\\black_dress',\n",
       " 'apparel dataset\\\\black_dress',\n",
       " 'apparel dataset\\\\black_dress',\n",
       " 'apparel dataset\\\\black_dress',\n",
       " 'apparel dataset\\\\black_dress',\n",
       " 'apparel dataset\\\\black_dress',\n",
       " 'apparel dataset\\\\black_dress',\n",
       " 'apparel dataset\\\\black_dress',\n",
       " 'apparel dataset\\\\black_dress',\n",
       " 'apparel dataset\\\\black_dress',\n",
       " 'apparel dataset\\\\black_dress',\n",
       " 'apparel dataset\\\\black_dress',\n",
       " 'apparel dataset\\\\black_dress',\n",
       " 'apparel dataset\\\\black_dress',\n",
       " 'apparel dataset\\\\black_dress',\n",
       " 'apparel dataset\\\\black_dress',\n",
       " 'apparel dataset\\\\black_dress',\n",
       " 'apparel dataset\\\\black_dress',\n",
       " 'apparel dataset\\\\black_dress',\n",
       " 'apparel dataset\\\\black_dress',\n",
       " 'apparel dataset\\\\black_dress',\n",
       " 'apparel dataset\\\\black_dress',\n",
       " 'apparel dataset\\\\black_dress',\n",
       " 'apparel dataset\\\\black_dress',\n",
       " 'apparel dataset\\\\black_dress',\n",
       " 'apparel dataset\\\\black_dress',\n",
       " 'apparel dataset\\\\black_dress',\n",
       " 'apparel dataset\\\\black_dress',\n",
       " 'apparel dataset\\\\black_dress',\n",
       " 'apparel dataset\\\\black_dress',\n",
       " 'apparel dataset\\\\black_dress',\n",
       " 'apparel dataset\\\\black_dress',\n",
       " 'apparel dataset\\\\black_dress',\n",
       " 'apparel dataset\\\\black_dress',\n",
       " 'apparel dataset\\\\black_dress',\n",
       " 'apparel dataset\\\\black_dress',\n",
       " 'apparel dataset\\\\black_dress',\n",
       " 'apparel dataset\\\\black_dress',\n",
       " 'apparel dataset\\\\black_dress',\n",
       " 'apparel dataset\\\\black_dress',\n",
       " 'apparel dataset\\\\black_dress',\n",
       " 'apparel dataset\\\\black_dress',\n",
       " 'apparel dataset\\\\black_dress',\n",
       " 'apparel dataset\\\\black_dress',\n",
       " 'apparel dataset\\\\black_dress',\n",
       " 'apparel dataset\\\\black_dress',\n",
       " 'apparel dataset\\\\black_dress',\n",
       " 'apparel dataset\\\\black_dress',\n",
       " 'apparel dataset\\\\black_dress',\n",
       " 'apparel dataset\\\\black_dress',\n",
       " 'apparel dataset\\\\black_dress',\n",
       " 'apparel dataset\\\\black_dress',\n",
       " 'apparel dataset\\\\black_dress',\n",
       " 'apparel dataset\\\\black_dress',\n",
       " 'apparel dataset\\\\black_dress',\n",
       " 'apparel dataset\\\\black_dress',\n",
       " 'apparel dataset\\\\black_dress',\n",
       " 'apparel dataset\\\\black_dress',\n",
       " 'apparel dataset\\\\black_dress',\n",
       " 'apparel dataset\\\\black_dress',\n",
       " 'apparel dataset\\\\black_dress',\n",
       " 'apparel dataset\\\\black_dress',\n",
       " 'apparel dataset\\\\black_dress',\n",
       " 'apparel dataset\\\\black_dress',\n",
       " 'apparel dataset\\\\black_dress',\n",
       " 'apparel dataset\\\\black_dress',\n",
       " 'apparel dataset\\\\black_dress',\n",
       " 'apparel dataset\\\\black_dress',\n",
       " 'apparel dataset\\\\black_dress',\n",
       " 'apparel dataset\\\\black_dress',\n",
       " 'apparel dataset\\\\black_dress',\n",
       " 'apparel dataset\\\\black_dress',\n",
       " 'apparel dataset\\\\black_dress',\n",
       " 'apparel dataset\\\\black_dress',\n",
       " 'apparel dataset\\\\black_dress',\n",
       " 'apparel dataset\\\\black_dress',\n",
       " 'apparel dataset\\\\black_dress',\n",
       " 'apparel dataset\\\\black_dress',\n",
       " 'apparel dataset\\\\black_dress',\n",
       " 'apparel dataset\\\\black_dress',\n",
       " 'apparel dataset\\\\black_dress',\n",
       " 'apparel dataset\\\\black_dress',\n",
       " 'apparel dataset\\\\black_dress',\n",
       " 'apparel dataset\\\\black_dress',\n",
       " 'apparel dataset\\\\black_dress',\n",
       " 'apparel dataset\\\\black_dress',\n",
       " 'apparel dataset\\\\black_dress',\n",
       " 'apparel dataset\\\\black_dress',\n",
       " 'apparel dataset\\\\black_dress',\n",
       " 'apparel dataset\\\\black_dress',\n",
       " 'apparel dataset\\\\black_dress',\n",
       " 'apparel dataset\\\\black_dress',\n",
       " 'apparel dataset\\\\black_dress',\n",
       " 'apparel dataset\\\\black_dress',\n",
       " 'apparel dataset\\\\black_dress',\n",
       " 'apparel dataset\\\\black_dress',\n",
       " 'apparel dataset\\\\black_dress',\n",
       " 'apparel dataset\\\\black_dress',\n",
       " 'apparel dataset\\\\black_dress',\n",
       " 'apparel dataset\\\\black_dress',\n",
       " 'apparel dataset\\\\black_dress',\n",
       " 'apparel dataset\\\\black_dress',\n",
       " 'apparel dataset\\\\black_dress',\n",
       " 'apparel dataset\\\\black_dress',\n",
       " 'apparel dataset\\\\black_dress',\n",
       " 'apparel dataset\\\\black_dress',\n",
       " 'apparel dataset\\\\black_dress',\n",
       " 'apparel dataset\\\\black_dress',\n",
       " 'apparel dataset\\\\black_dress',\n",
       " 'apparel dataset\\\\black_dress',\n",
       " 'apparel dataset\\\\black_dress',\n",
       " 'apparel dataset\\\\black_dress',\n",
       " 'apparel dataset\\\\black_dress',\n",
       " 'apparel dataset\\\\black_dress',\n",
       " 'apparel dataset\\\\black_dress',\n",
       " 'apparel dataset\\\\black_dress',\n",
       " 'apparel dataset\\\\black_dress',\n",
       " 'apparel dataset\\\\black_dress',\n",
       " 'apparel dataset\\\\black_dress',\n",
       " 'apparel dataset\\\\black_dress',\n",
       " 'apparel dataset\\\\black_dress',\n",
       " 'apparel dataset\\\\black_dress',\n",
       " 'apparel dataset\\\\black_dress',\n",
       " 'apparel dataset\\\\black_dress',\n",
       " 'apparel dataset\\\\black_dress',\n",
       " 'apparel dataset\\\\black_dress',\n",
       " 'apparel dataset\\\\black_dress',\n",
       " 'apparel dataset\\\\black_dress',\n",
       " 'apparel dataset\\\\black_dress',\n",
       " 'apparel dataset\\\\black_dress',\n",
       " 'apparel dataset\\\\black_dress',\n",
       " 'apparel dataset\\\\black_dress',\n",
       " 'apparel dataset\\\\black_dress',\n",
       " 'apparel dataset\\\\black_dress',\n",
       " 'apparel dataset\\\\black_dress',\n",
       " 'apparel dataset\\\\black_dress',\n",
       " 'apparel dataset\\\\black_dress',\n",
       " 'apparel dataset\\\\black_dress',\n",
       " 'apparel dataset\\\\black_dress',\n",
       " 'apparel dataset\\\\black_dress',\n",
       " 'apparel dataset\\\\black_dress',\n",
       " 'apparel dataset\\\\black_dress',\n",
       " 'apparel dataset\\\\black_dress',\n",
       " 'apparel dataset\\\\black_dress',\n",
       " 'apparel dataset\\\\black_dress',\n",
       " 'apparel dataset\\\\black_dress',\n",
       " 'apparel dataset\\\\black_dress',\n",
       " 'apparel dataset\\\\black_dress',\n",
       " 'apparel dataset\\\\black_dress',\n",
       " 'apparel dataset\\\\black_dress',\n",
       " 'apparel dataset\\\\black_dress',\n",
       " 'apparel dataset\\\\black_dress',\n",
       " 'apparel dataset\\\\black_dress',\n",
       " 'apparel dataset\\\\black_dress',\n",
       " 'apparel dataset\\\\black_dress',\n",
       " 'apparel dataset\\\\black_dress',\n",
       " 'apparel dataset\\\\black_dress',\n",
       " 'apparel dataset\\\\black_dress',\n",
       " 'apparel dataset\\\\black_dress',\n",
       " 'apparel dataset\\\\black_dress',\n",
       " 'apparel dataset\\\\black_dress',\n",
       " 'apparel dataset\\\\black_dress',\n",
       " 'apparel dataset\\\\black_dress',\n",
       " 'apparel dataset\\\\black_dress',\n",
       " 'apparel dataset\\\\black_dress',\n",
       " 'apparel dataset\\\\black_dress',\n",
       " 'apparel dataset\\\\black_dress',\n",
       " 'apparel dataset\\\\black_dress',\n",
       " 'apparel dataset\\\\black_dress',\n",
       " 'apparel dataset\\\\black_dress',\n",
       " 'apparel dataset\\\\black_dress',\n",
       " 'apparel dataset\\\\black_dress',\n",
       " 'apparel dataset\\\\black_dress',\n",
       " 'apparel dataset\\\\black_dress',\n",
       " 'apparel dataset\\\\black_dress',\n",
       " 'apparel dataset\\\\black_dress',\n",
       " 'apparel dataset\\\\black_dress',\n",
       " 'apparel dataset\\\\black_dress',\n",
       " 'apparel dataset\\\\black_dress',\n",
       " 'apparel dataset\\\\black_dress',\n",
       " 'apparel dataset\\\\black_dress',\n",
       " 'apparel dataset\\\\black_dress',\n",
       " 'apparel dataset\\\\black_dress',\n",
       " 'apparel dataset\\\\black_dress',\n",
       " 'apparel dataset\\\\black_dress',\n",
       " 'apparel dataset\\\\black_dress',\n",
       " 'apparel dataset\\\\black_dress',\n",
       " 'apparel dataset\\\\black_dress',\n",
       " 'apparel dataset\\\\black_dress',\n",
       " 'apparel dataset\\\\black_dress',\n",
       " 'apparel dataset\\\\black_dress',\n",
       " 'apparel dataset\\\\black_dress',\n",
       " 'apparel dataset\\\\black_dress',\n",
       " 'apparel dataset\\\\black_dress',\n",
       " 'apparel dataset\\\\black_dress',\n",
       " 'apparel dataset\\\\black_dress',\n",
       " 'apparel dataset\\\\black_dress',\n",
       " 'apparel dataset\\\\black_dress',\n",
       " 'apparel dataset\\\\black_dress',\n",
       " 'apparel dataset\\\\black_dress',\n",
       " 'apparel dataset\\\\black_dress',\n",
       " 'apparel dataset\\\\black_dress',\n",
       " 'apparel dataset\\\\black_dress',\n",
       " 'apparel dataset\\\\black_dress',\n",
       " 'apparel dataset\\\\black_dress',\n",
       " 'apparel dataset\\\\black_dress',\n",
       " 'apparel dataset\\\\black_dress',\n",
       " 'apparel dataset\\\\black_dress',\n",
       " 'apparel dataset\\\\black_dress',\n",
       " 'apparel dataset\\\\black_dress',\n",
       " 'apparel dataset\\\\black_dress',\n",
       " 'apparel dataset\\\\black_dress',\n",
       " 'apparel dataset\\\\black_dress',\n",
       " 'apparel dataset\\\\black_dress',\n",
       " 'apparel dataset\\\\black_dress',\n",
       " 'apparel dataset\\\\black_dress',\n",
       " 'apparel dataset\\\\black_dress',\n",
       " 'apparel dataset\\\\black_dress',\n",
       " 'apparel dataset\\\\black_dress',\n",
       " 'apparel dataset\\\\black_dress',\n",
       " 'apparel dataset\\\\black_dress',\n",
       " 'apparel dataset\\\\black_dress',\n",
       " 'apparel dataset\\\\black_dress',\n",
       " 'apparel dataset\\\\black_dress',\n",
       " 'apparel dataset\\\\black_dress',\n",
       " 'apparel dataset\\\\black_dress',\n",
       " 'apparel dataset\\\\black_dress',\n",
       " 'apparel dataset\\\\black_pants',\n",
       " 'apparel dataset\\\\black_pants',\n",
       " 'apparel dataset\\\\black_pants',\n",
       " 'apparel dataset\\\\black_pants',\n",
       " 'apparel dataset\\\\black_pants',\n",
       " 'apparel dataset\\\\black_pants',\n",
       " 'apparel dataset\\\\black_pants',\n",
       " 'apparel dataset\\\\black_pants',\n",
       " 'apparel dataset\\\\black_pants',\n",
       " 'apparel dataset\\\\black_pants',\n",
       " 'apparel dataset\\\\black_pants',\n",
       " 'apparel dataset\\\\black_pants',\n",
       " 'apparel dataset\\\\black_pants',\n",
       " 'apparel dataset\\\\black_pants',\n",
       " 'apparel dataset\\\\black_pants',\n",
       " 'apparel dataset\\\\black_pants',\n",
       " 'apparel dataset\\\\black_pants',\n",
       " 'apparel dataset\\\\black_pants',\n",
       " 'apparel dataset\\\\black_pants',\n",
       " 'apparel dataset\\\\black_pants',\n",
       " 'apparel dataset\\\\black_pants',\n",
       " 'apparel dataset\\\\black_pants',\n",
       " 'apparel dataset\\\\black_pants',\n",
       " 'apparel dataset\\\\black_pants',\n",
       " 'apparel dataset\\\\black_pants',\n",
       " 'apparel dataset\\\\black_pants',\n",
       " 'apparel dataset\\\\black_pants',\n",
       " 'apparel dataset\\\\black_pants',\n",
       " 'apparel dataset\\\\black_pants',\n",
       " 'apparel dataset\\\\black_pants',\n",
       " 'apparel dataset\\\\black_pants',\n",
       " 'apparel dataset\\\\black_pants',\n",
       " 'apparel dataset\\\\black_pants',\n",
       " 'apparel dataset\\\\black_pants',\n",
       " 'apparel dataset\\\\black_pants',\n",
       " 'apparel dataset\\\\black_pants',\n",
       " 'apparel dataset\\\\black_pants',\n",
       " 'apparel dataset\\\\black_pants',\n",
       " 'apparel dataset\\\\black_pants',\n",
       " 'apparel dataset\\\\black_pants',\n",
       " 'apparel dataset\\\\black_pants',\n",
       " 'apparel dataset\\\\black_pants',\n",
       " 'apparel dataset\\\\black_pants',\n",
       " 'apparel dataset\\\\black_pants',\n",
       " 'apparel dataset\\\\black_pants',\n",
       " 'apparel dataset\\\\black_pants',\n",
       " 'apparel dataset\\\\black_pants',\n",
       " 'apparel dataset\\\\black_pants',\n",
       " 'apparel dataset\\\\black_pants',\n",
       " 'apparel dataset\\\\black_pants',\n",
       " 'apparel dataset\\\\black_pants',\n",
       " 'apparel dataset\\\\black_pants',\n",
       " 'apparel dataset\\\\black_pants',\n",
       " 'apparel dataset\\\\black_pants',\n",
       " 'apparel dataset\\\\black_pants',\n",
       " 'apparel dataset\\\\black_pants',\n",
       " 'apparel dataset\\\\black_pants',\n",
       " 'apparel dataset\\\\black_pants',\n",
       " 'apparel dataset\\\\black_pants',\n",
       " 'apparel dataset\\\\black_pants',\n",
       " 'apparel dataset\\\\black_pants',\n",
       " 'apparel dataset\\\\black_pants',\n",
       " 'apparel dataset\\\\black_pants',\n",
       " 'apparel dataset\\\\black_pants',\n",
       " 'apparel dataset\\\\black_pants',\n",
       " 'apparel dataset\\\\black_pants',\n",
       " 'apparel dataset\\\\black_pants',\n",
       " 'apparel dataset\\\\black_pants',\n",
       " 'apparel dataset\\\\black_pants',\n",
       " 'apparel dataset\\\\black_pants',\n",
       " 'apparel dataset\\\\black_pants',\n",
       " 'apparel dataset\\\\black_pants',\n",
       " 'apparel dataset\\\\black_pants',\n",
       " 'apparel dataset\\\\black_pants',\n",
       " 'apparel dataset\\\\black_pants',\n",
       " 'apparel dataset\\\\black_pants',\n",
       " 'apparel dataset\\\\black_pants',\n",
       " 'apparel dataset\\\\black_pants',\n",
       " 'apparel dataset\\\\black_pants',\n",
       " 'apparel dataset\\\\black_pants',\n",
       " 'apparel dataset\\\\black_pants',\n",
       " 'apparel dataset\\\\black_pants',\n",
       " 'apparel dataset\\\\black_pants',\n",
       " 'apparel dataset\\\\black_pants',\n",
       " 'apparel dataset\\\\black_pants',\n",
       " 'apparel dataset\\\\black_pants',\n",
       " 'apparel dataset\\\\black_pants',\n",
       " 'apparel dataset\\\\black_pants',\n",
       " 'apparel dataset\\\\black_pants',\n",
       " 'apparel dataset\\\\black_pants',\n",
       " 'apparel dataset\\\\black_pants',\n",
       " 'apparel dataset\\\\black_pants',\n",
       " 'apparel dataset\\\\black_pants',\n",
       " 'apparel dataset\\\\black_pants',\n",
       " 'apparel dataset\\\\black_pants',\n",
       " 'apparel dataset\\\\black_pants',\n",
       " 'apparel dataset\\\\black_pants',\n",
       " 'apparel dataset\\\\black_pants',\n",
       " 'apparel dataset\\\\black_pants',\n",
       " 'apparel dataset\\\\black_pants',\n",
       " 'apparel dataset\\\\black_pants',\n",
       " 'apparel dataset\\\\black_pants',\n",
       " 'apparel dataset\\\\black_pants',\n",
       " 'apparel dataset\\\\black_pants',\n",
       " 'apparel dataset\\\\black_pants',\n",
       " 'apparel dataset\\\\black_pants',\n",
       " 'apparel dataset\\\\black_pants',\n",
       " 'apparel dataset\\\\black_pants',\n",
       " 'apparel dataset\\\\black_pants',\n",
       " 'apparel dataset\\\\black_pants',\n",
       " 'apparel dataset\\\\black_pants',\n",
       " 'apparel dataset\\\\black_pants',\n",
       " 'apparel dataset\\\\black_pants',\n",
       " 'apparel dataset\\\\black_pants',\n",
       " 'apparel dataset\\\\black_pants',\n",
       " 'apparel dataset\\\\black_pants',\n",
       " 'apparel dataset\\\\black_pants',\n",
       " 'apparel dataset\\\\black_pants',\n",
       " 'apparel dataset\\\\black_pants',\n",
       " 'apparel dataset\\\\black_pants',\n",
       " 'apparel dataset\\\\black_pants',\n",
       " 'apparel dataset\\\\black_pants',\n",
       " 'apparel dataset\\\\black_pants',\n",
       " 'apparel dataset\\\\black_pants',\n",
       " 'apparel dataset\\\\black_pants',\n",
       " 'apparel dataset\\\\black_pants',\n",
       " 'apparel dataset\\\\black_pants',\n",
       " 'apparel dataset\\\\black_pants',\n",
       " 'apparel dataset\\\\black_pants',\n",
       " 'apparel dataset\\\\black_pants',\n",
       " 'apparel dataset\\\\black_pants',\n",
       " 'apparel dataset\\\\black_pants',\n",
       " 'apparel dataset\\\\black_pants',\n",
       " 'apparel dataset\\\\black_pants',\n",
       " 'apparel dataset\\\\black_pants',\n",
       " 'apparel dataset\\\\black_pants',\n",
       " 'apparel dataset\\\\black_pants',\n",
       " 'apparel dataset\\\\black_pants',\n",
       " 'apparel dataset\\\\black_pants',\n",
       " 'apparel dataset\\\\black_pants',\n",
       " 'apparel dataset\\\\black_pants',\n",
       " 'apparel dataset\\\\black_pants',\n",
       " 'apparel dataset\\\\black_pants',\n",
       " 'apparel dataset\\\\black_pants',\n",
       " 'apparel dataset\\\\black_pants',\n",
       " 'apparel dataset\\\\black_pants',\n",
       " 'apparel dataset\\\\black_pants',\n",
       " 'apparel dataset\\\\black_pants',\n",
       " 'apparel dataset\\\\black_pants',\n",
       " 'apparel dataset\\\\black_pants',\n",
       " 'apparel dataset\\\\black_pants',\n",
       " 'apparel dataset\\\\black_pants',\n",
       " 'apparel dataset\\\\black_pants',\n",
       " 'apparel dataset\\\\black_pants',\n",
       " 'apparel dataset\\\\black_pants',\n",
       " 'apparel dataset\\\\black_pants',\n",
       " 'apparel dataset\\\\black_pants',\n",
       " 'apparel dataset\\\\black_pants',\n",
       " 'apparel dataset\\\\black_pants',\n",
       " 'apparel dataset\\\\black_pants',\n",
       " 'apparel dataset\\\\black_pants',\n",
       " 'apparel dataset\\\\black_pants',\n",
       " 'apparel dataset\\\\black_pants',\n",
       " 'apparel dataset\\\\black_pants',\n",
       " 'apparel dataset\\\\black_pants',\n",
       " 'apparel dataset\\\\black_pants',\n",
       " 'apparel dataset\\\\black_pants',\n",
       " 'apparel dataset\\\\black_pants',\n",
       " 'apparel dataset\\\\black_pants',\n",
       " 'apparel dataset\\\\black_pants',\n",
       " 'apparel dataset\\\\black_pants',\n",
       " 'apparel dataset\\\\black_pants',\n",
       " 'apparel dataset\\\\black_pants',\n",
       " 'apparel dataset\\\\black_pants',\n",
       " 'apparel dataset\\\\black_pants',\n",
       " 'apparel dataset\\\\black_pants',\n",
       " 'apparel dataset\\\\black_pants',\n",
       " 'apparel dataset\\\\black_pants',\n",
       " 'apparel dataset\\\\black_pants',\n",
       " 'apparel dataset\\\\black_pants',\n",
       " 'apparel dataset\\\\black_pants',\n",
       " 'apparel dataset\\\\black_pants',\n",
       " 'apparel dataset\\\\black_pants',\n",
       " 'apparel dataset\\\\black_pants',\n",
       " 'apparel dataset\\\\black_pants',\n",
       " 'apparel dataset\\\\black_pants',\n",
       " 'apparel dataset\\\\black_pants',\n",
       " 'apparel dataset\\\\black_pants',\n",
       " 'apparel dataset\\\\black_pants',\n",
       " 'apparel dataset\\\\black_pants',\n",
       " 'apparel dataset\\\\black_pants',\n",
       " 'apparel dataset\\\\black_pants',\n",
       " 'apparel dataset\\\\black_pants',\n",
       " 'apparel dataset\\\\black_pants',\n",
       " 'apparel dataset\\\\black_pants',\n",
       " 'apparel dataset\\\\black_pants',\n",
       " 'apparel dataset\\\\black_pants',\n",
       " 'apparel dataset\\\\black_pants',\n",
       " 'apparel dataset\\\\black_pants',\n",
       " 'apparel dataset\\\\black_pants',\n",
       " 'apparel dataset\\\\black_pants',\n",
       " 'apparel dataset\\\\black_pants',\n",
       " 'apparel dataset\\\\black_pants',\n",
       " 'apparel dataset\\\\black_pants',\n",
       " 'apparel dataset\\\\black_pants',\n",
       " 'apparel dataset\\\\black_pants',\n",
       " 'apparel dataset\\\\black_pants',\n",
       " 'apparel dataset\\\\black_pants',\n",
       " 'apparel dataset\\\\black_pants',\n",
       " 'apparel dataset\\\\black_pants',\n",
       " 'apparel dataset\\\\black_pants',\n",
       " 'apparel dataset\\\\black_pants',\n",
       " 'apparel dataset\\\\black_pants',\n",
       " 'apparel dataset\\\\black_pants',\n",
       " 'apparel dataset\\\\black_pants',\n",
       " 'apparel dataset\\\\black_pants',\n",
       " 'apparel dataset\\\\black_pants',\n",
       " 'apparel dataset\\\\black_pants',\n",
       " 'apparel dataset\\\\black_pants',\n",
       " 'apparel dataset\\\\black_pants',\n",
       " 'apparel dataset\\\\black_pants',\n",
       " 'apparel dataset\\\\black_pants',\n",
       " 'apparel dataset\\\\black_pants',\n",
       " 'apparel dataset\\\\black_pants',\n",
       " 'apparel dataset\\\\black_pants',\n",
       " 'apparel dataset\\\\black_pants',\n",
       " 'apparel dataset\\\\black_pants',\n",
       " 'apparel dataset\\\\black_pants',\n",
       " 'apparel dataset\\\\black_pants',\n",
       " 'apparel dataset\\\\black_pants',\n",
       " 'apparel dataset\\\\black_pants',\n",
       " 'apparel dataset\\\\black_pants',\n",
       " 'apparel dataset\\\\black_pants',\n",
       " 'apparel dataset\\\\black_pants',\n",
       " 'apparel dataset\\\\black_pants',\n",
       " 'apparel dataset\\\\black_pants',\n",
       " 'apparel dataset\\\\black_pants',\n",
       " 'apparel dataset\\\\black_pants',\n",
       " 'apparel dataset\\\\black_pants',\n",
       " 'apparel dataset\\\\black_pants',\n",
       " 'apparel dataset\\\\black_pants',\n",
       " 'apparel dataset\\\\black_pants',\n",
       " 'apparel dataset\\\\black_pants',\n",
       " 'apparel dataset\\\\black_pants',\n",
       " 'apparel dataset\\\\black_pants',\n",
       " 'apparel dataset\\\\black_pants',\n",
       " 'apparel dataset\\\\black_pants',\n",
       " 'apparel dataset\\\\black_pants',\n",
       " 'apparel dataset\\\\black_pants',\n",
       " 'apparel dataset\\\\black_pants',\n",
       " 'apparel dataset\\\\black_pants',\n",
       " 'apparel dataset\\\\black_pants',\n",
       " 'apparel dataset\\\\black_pants',\n",
       " 'apparel dataset\\\\black_pants',\n",
       " 'apparel dataset\\\\black_pants',\n",
       " 'apparel dataset\\\\black_pants',\n",
       " 'apparel dataset\\\\black_pants',\n",
       " 'apparel dataset\\\\black_pants',\n",
       " 'apparel dataset\\\\black_pants',\n",
       " 'apparel dataset\\\\black_pants',\n",
       " 'apparel dataset\\\\black_pants',\n",
       " 'apparel dataset\\\\black_pants',\n",
       " 'apparel dataset\\\\black_pants',\n",
       " 'apparel dataset\\\\black_pants',\n",
       " 'apparel dataset\\\\black_pants',\n",
       " 'apparel dataset\\\\black_pants',\n",
       " 'apparel dataset\\\\black_pants',\n",
       " 'apparel dataset\\\\black_pants',\n",
       " 'apparel dataset\\\\black_pants',\n",
       " 'apparel dataset\\\\black_pants',\n",
       " 'apparel dataset\\\\black_pants',\n",
       " 'apparel dataset\\\\black_pants',\n",
       " 'apparel dataset\\\\black_pants',\n",
       " 'apparel dataset\\\\black_pants',\n",
       " 'apparel dataset\\\\black_pants',\n",
       " 'apparel dataset\\\\black_pants',\n",
       " 'apparel dataset\\\\black_pants',\n",
       " 'apparel dataset\\\\black_pants',\n",
       " 'apparel dataset\\\\black_pants',\n",
       " 'apparel dataset\\\\black_pants',\n",
       " 'apparel dataset\\\\black_pants',\n",
       " 'apparel dataset\\\\black_pants',\n",
       " 'apparel dataset\\\\black_pants',\n",
       " 'apparel dataset\\\\black_pants',\n",
       " 'apparel dataset\\\\black_pants',\n",
       " 'apparel dataset\\\\black_pants',\n",
       " 'apparel dataset\\\\black_pants',\n",
       " 'apparel dataset\\\\black_pants',\n",
       " 'apparel dataset\\\\black_pants',\n",
       " 'apparel dataset\\\\black_pants',\n",
       " 'apparel dataset\\\\black_pants',\n",
       " 'apparel dataset\\\\black_pants',\n",
       " 'apparel dataset\\\\black_pants',\n",
       " 'apparel dataset\\\\black_pants',\n",
       " 'apparel dataset\\\\black_pants',\n",
       " 'apparel dataset\\\\black_pants',\n",
       " 'apparel dataset\\\\black_pants',\n",
       " 'apparel dataset\\\\black_pants',\n",
       " 'apparel dataset\\\\black_pants',\n",
       " 'apparel dataset\\\\black_pants',\n",
       " 'apparel dataset\\\\black_pants',\n",
       " 'apparel dataset\\\\black_pants',\n",
       " 'apparel dataset\\\\black_pants',\n",
       " 'apparel dataset\\\\black_pants',\n",
       " 'apparel dataset\\\\black_pants',\n",
       " 'apparel dataset\\\\black_pants',\n",
       " 'apparel dataset\\\\black_pants',\n",
       " 'apparel dataset\\\\black_pants',\n",
       " 'apparel dataset\\\\black_pants',\n",
       " 'apparel dataset\\\\black_pants',\n",
       " 'apparel dataset\\\\black_pants',\n",
       " 'apparel dataset\\\\black_pants',\n",
       " 'apparel dataset\\\\black_pants',\n",
       " 'apparel dataset\\\\black_pants',\n",
       " 'apparel dataset\\\\black_pants',\n",
       " 'apparel dataset\\\\black_pants',\n",
       " 'apparel dataset\\\\black_pants',\n",
       " 'apparel dataset\\\\black_pants',\n",
       " 'apparel dataset\\\\black_pants',\n",
       " 'apparel dataset\\\\black_pants',\n",
       " 'apparel dataset\\\\black_pants',\n",
       " 'apparel dataset\\\\black_pants',\n",
       " 'apparel dataset\\\\black_pants',\n",
       " 'apparel dataset\\\\black_pants',\n",
       " 'apparel dataset\\\\black_pants',\n",
       " 'apparel dataset\\\\black_pants',\n",
       " 'apparel dataset\\\\black_pants',\n",
       " 'apparel dataset\\\\black_pants',\n",
       " 'apparel dataset\\\\black_pants',\n",
       " 'apparel dataset\\\\black_pants',\n",
       " 'apparel dataset\\\\black_pants',\n",
       " 'apparel dataset\\\\black_pants',\n",
       " 'apparel dataset\\\\black_pants',\n",
       " 'apparel dataset\\\\black_pants',\n",
       " 'apparel dataset\\\\black_pants',\n",
       " 'apparel dataset\\\\black_pants',\n",
       " 'apparel dataset\\\\black_pants',\n",
       " 'apparel dataset\\\\black_pants',\n",
       " 'apparel dataset\\\\black_pants',\n",
       " 'apparel dataset\\\\black_pants',\n",
       " 'apparel dataset\\\\black_pants',\n",
       " 'apparel dataset\\\\black_pants',\n",
       " 'apparel dataset\\\\black_pants',\n",
       " 'apparel dataset\\\\black_pants',\n",
       " 'apparel dataset\\\\black_pants',\n",
       " 'apparel dataset\\\\black_pants',\n",
       " 'apparel dataset\\\\black_pants',\n",
       " 'apparel dataset\\\\black_pants',\n",
       " 'apparel dataset\\\\black_pants',\n",
       " 'apparel dataset\\\\black_pants',\n",
       " 'apparel dataset\\\\black_pants',\n",
       " 'apparel dataset\\\\black_pants',\n",
       " 'apparel dataset\\\\black_pants',\n",
       " 'apparel dataset\\\\black_pants',\n",
       " 'apparel dataset\\\\black_pants',\n",
       " 'apparel dataset\\\\black_pants',\n",
       " 'apparel dataset\\\\black_pants',\n",
       " 'apparel dataset\\\\black_pants',\n",
       " 'apparel dataset\\\\black_pants',\n",
       " 'apparel dataset\\\\black_pants',\n",
       " 'apparel dataset\\\\black_pants',\n",
       " 'apparel dataset\\\\black_pants',\n",
       " 'apparel dataset\\\\black_pants',\n",
       " 'apparel dataset\\\\black_pants',\n",
       " 'apparel dataset\\\\black_pants',\n",
       " 'apparel dataset\\\\black_pants',\n",
       " 'apparel dataset\\\\black_pants',\n",
       " 'apparel dataset\\\\black_pants',\n",
       " 'apparel dataset\\\\black_pants',\n",
       " 'apparel dataset\\\\black_pants',\n",
       " 'apparel dataset\\\\black_pants',\n",
       " 'apparel dataset\\\\black_pants',\n",
       " 'apparel dataset\\\\black_pants',\n",
       " 'apparel dataset\\\\black_pants',\n",
       " 'apparel dataset\\\\black_pants',\n",
       " 'apparel dataset\\\\black_pants',\n",
       " 'apparel dataset\\\\black_pants',\n",
       " 'apparel dataset\\\\black_pants',\n",
       " 'apparel dataset\\\\black_pants',\n",
       " 'apparel dataset\\\\black_pants',\n",
       " 'apparel dataset\\\\black_pants',\n",
       " 'apparel dataset\\\\black_pants',\n",
       " 'apparel dataset\\\\black_pants',\n",
       " 'apparel dataset\\\\black_pants',\n",
       " 'apparel dataset\\\\black_pants',\n",
       " 'apparel dataset\\\\black_pants',\n",
       " 'apparel dataset\\\\black_pants',\n",
       " 'apparel dataset\\\\black_pants',\n",
       " 'apparel dataset\\\\black_pants',\n",
       " 'apparel dataset\\\\black_pants',\n",
       " 'apparel dataset\\\\black_pants',\n",
       " 'apparel dataset\\\\black_pants',\n",
       " 'apparel dataset\\\\black_pants',\n",
       " 'apparel dataset\\\\black_pants',\n",
       " 'apparel dataset\\\\black_pants',\n",
       " 'apparel dataset\\\\black_pants',\n",
       " 'apparel dataset\\\\black_pants',\n",
       " 'apparel dataset\\\\black_pants',\n",
       " 'apparel dataset\\\\black_pants',\n",
       " 'apparel dataset\\\\black_pants',\n",
       " 'apparel dataset\\\\black_pants',\n",
       " 'apparel dataset\\\\black_pants',\n",
       " 'apparel dataset\\\\black_pants',\n",
       " 'apparel dataset\\\\black_pants',\n",
       " 'apparel dataset\\\\black_pants',\n",
       " 'apparel dataset\\\\black_pants',\n",
       " 'apparel dataset\\\\black_pants',\n",
       " 'apparel dataset\\\\black_pants',\n",
       " 'apparel dataset\\\\black_pants',\n",
       " 'apparel dataset\\\\black_pants',\n",
       " 'apparel dataset\\\\black_pants',\n",
       " 'apparel dataset\\\\black_pants',\n",
       " 'apparel dataset\\\\black_pants',\n",
       " 'apparel dataset\\\\black_pants',\n",
       " 'apparel dataset\\\\black_pants',\n",
       " 'apparel dataset\\\\black_pants',\n",
       " 'apparel dataset\\\\black_pants',\n",
       " 'apparel dataset\\\\black_pants',\n",
       " 'apparel dataset\\\\black_pants',\n",
       " 'apparel dataset\\\\black_pants',\n",
       " 'apparel dataset\\\\black_pants',\n",
       " 'apparel dataset\\\\black_pants',\n",
       " 'apparel dataset\\\\black_pants',\n",
       " 'apparel dataset\\\\black_pants',\n",
       " 'apparel dataset\\\\black_pants',\n",
       " 'apparel dataset\\\\black_pants',\n",
       " 'apparel dataset\\\\black_pants',\n",
       " 'apparel dataset\\\\black_pants',\n",
       " 'apparel dataset\\\\black_pants',\n",
       " 'apparel dataset\\\\black_pants',\n",
       " 'apparel dataset\\\\black_pants',\n",
       " 'apparel dataset\\\\black_pants',\n",
       " 'apparel dataset\\\\black_pants',\n",
       " 'apparel dataset\\\\black_pants',\n",
       " 'apparel dataset\\\\black_pants',\n",
       " 'apparel dataset\\\\black_pants',\n",
       " 'apparel dataset\\\\black_pants',\n",
       " 'apparel dataset\\\\black_pants',\n",
       " 'apparel dataset\\\\black_pants',\n",
       " 'apparel dataset\\\\black_pants',\n",
       " 'apparel dataset\\\\black_pants',\n",
       " 'apparel dataset\\\\black_pants',\n",
       " 'apparel dataset\\\\black_pants',\n",
       " 'apparel dataset\\\\black_pants',\n",
       " 'apparel dataset\\\\black_pants',\n",
       " 'apparel dataset\\\\black_pants',\n",
       " 'apparel dataset\\\\black_pants',\n",
       " 'apparel dataset\\\\black_pants',\n",
       " 'apparel dataset\\\\black_pants',\n",
       " 'apparel dataset\\\\black_pants',\n",
       " 'apparel dataset\\\\black_pants',\n",
       " 'apparel dataset\\\\black_pants',\n",
       " 'apparel dataset\\\\black_pants',\n",
       " 'apparel dataset\\\\black_pants',\n",
       " 'apparel dataset\\\\black_pants',\n",
       " 'apparel dataset\\\\black_pants',\n",
       " 'apparel dataset\\\\black_pants',\n",
       " 'apparel dataset\\\\black_pants',\n",
       " 'apparel dataset\\\\black_pants',\n",
       " 'apparel dataset\\\\black_pants',\n",
       " 'apparel dataset\\\\black_pants',\n",
       " 'apparel dataset\\\\black_pants',\n",
       " 'apparel dataset\\\\black_pants',\n",
       " 'apparel dataset\\\\black_pants',\n",
       " 'apparel dataset\\\\black_pants',\n",
       " 'apparel dataset\\\\black_pants',\n",
       " 'apparel dataset\\\\black_pants',\n",
       " 'apparel dataset\\\\black_pants',\n",
       " 'apparel dataset\\\\black_pants',\n",
       " 'apparel dataset\\\\black_pants',\n",
       " 'apparel dataset\\\\black_pants',\n",
       " 'apparel dataset\\\\black_pants',\n",
       " 'apparel dataset\\\\black_pants',\n",
       " 'apparel dataset\\\\black_pants',\n",
       " 'apparel dataset\\\\black_pants',\n",
       " 'apparel dataset\\\\black_pants',\n",
       " 'apparel dataset\\\\black_pants',\n",
       " 'apparel dataset\\\\black_pants',\n",
       " 'apparel dataset\\\\black_pants',\n",
       " 'apparel dataset\\\\black_pants',\n",
       " 'apparel dataset\\\\black_pants',\n",
       " 'apparel dataset\\\\black_pants',\n",
       " 'apparel dataset\\\\black_pants',\n",
       " 'apparel dataset\\\\black_pants',\n",
       " 'apparel dataset\\\\black_pants',\n",
       " 'apparel dataset\\\\black_pants',\n",
       " 'apparel dataset\\\\black_pants',\n",
       " 'apparel dataset\\\\black_pants',\n",
       " 'apparel dataset\\\\black_pants',\n",
       " 'apparel dataset\\\\black_pants',\n",
       " 'apparel dataset\\\\black_pants',\n",
       " 'apparel dataset\\\\black_pants',\n",
       " 'apparel dataset\\\\black_pants',\n",
       " 'apparel dataset\\\\black_pants',\n",
       " 'apparel dataset\\\\black_pants',\n",
       " 'apparel dataset\\\\black_pants',\n",
       " 'apparel dataset\\\\black_pants',\n",
       " 'apparel dataset\\\\black_pants',\n",
       " 'apparel dataset\\\\black_pants',\n",
       " 'apparel dataset\\\\black_pants',\n",
       " 'apparel dataset\\\\black_pants',\n",
       " 'apparel dataset\\\\black_pants',\n",
       " 'apparel dataset\\\\black_pants',\n",
       " 'apparel dataset\\\\black_pants',\n",
       " 'apparel dataset\\\\black_pants',\n",
       " 'apparel dataset\\\\black_pants',\n",
       " 'apparel dataset\\\\black_pants',\n",
       " 'apparel dataset\\\\black_pants',\n",
       " 'apparel dataset\\\\black_pants',\n",
       " 'apparel dataset\\\\black_pants',\n",
       " 'apparel dataset\\\\black_pants',\n",
       " 'apparel dataset\\\\black_pants',\n",
       " 'apparel dataset\\\\black_pants',\n",
       " 'apparel dataset\\\\black_pants',\n",
       " 'apparel dataset\\\\black_pants',\n",
       " 'apparel dataset\\\\black_pants',\n",
       " 'apparel dataset\\\\black_pants',\n",
       " 'apparel dataset\\\\black_pants',\n",
       " 'apparel dataset\\\\black_pants',\n",
       " 'apparel dataset\\\\black_pants',\n",
       " 'apparel dataset\\\\black_pants',\n",
       " 'apparel dataset\\\\black_pants',\n",
       " 'apparel dataset\\\\black_pants',\n",
       " 'apparel dataset\\\\black_pants',\n",
       " 'apparel dataset\\\\black_pants',\n",
       " 'apparel dataset\\\\black_pants',\n",
       " 'apparel dataset\\\\black_pants',\n",
       " 'apparel dataset\\\\black_pants',\n",
       " 'apparel dataset\\\\black_pants',\n",
       " 'apparel dataset\\\\black_pants',\n",
       " 'apparel dataset\\\\black_pants',\n",
       " 'apparel dataset\\\\black_pants',\n",
       " 'apparel dataset\\\\black_pants',\n",
       " 'apparel dataset\\\\black_pants',\n",
       " 'apparel dataset\\\\black_pants',\n",
       " 'apparel dataset\\\\black_pants',\n",
       " 'apparel dataset\\\\black_pants',\n",
       " 'apparel dataset\\\\black_pants',\n",
       " 'apparel dataset\\\\black_pants',\n",
       " 'apparel dataset\\\\black_pants',\n",
       " 'apparel dataset\\\\black_pants',\n",
       " 'apparel dataset\\\\black_pants',\n",
       " 'apparel dataset\\\\black_pants',\n",
       " 'apparel dataset\\\\black_pants',\n",
       " 'apparel dataset\\\\black_pants',\n",
       " 'apparel dataset\\\\black_pants',\n",
       " 'apparel dataset\\\\black_pants',\n",
       " 'apparel dataset\\\\black_pants',\n",
       " 'apparel dataset\\\\black_pants',\n",
       " 'apparel dataset\\\\black_pants',\n",
       " ...]"
      ]
     },
     "execution_count": 10,
     "metadata": {},
     "output_type": "execute_result"
    }
   ],
   "source": []
  },
  {
   "cell_type": "markdown",
   "metadata": {
    "deletable": true,
    "editable": true
   },
   "source": [
    "### Splitting the Apparel categories from the Folder names. The Categories variable contains: Dress, Pants, Shoes, Shirt and Shorts Values. "
   ]
  },
  {
   "cell_type": "code",
   "execution_count": 11,
   "metadata": {
    "collapsed": true,
    "deletable": true,
    "editable": true
   },
   "outputs": [],
   "source": [
    "categories=[]\n",
    "for i in range(0,len(category_names)):\n",
    "    categories.append(category_names[i].split(\"\\\\\"\"\")[1].split('_')[1])"
   ]
  },
  {
   "cell_type": "markdown",
   "metadata": {
    "deletable": true,
    "editable": true
   },
   "source": [
    "### Creating the dataframe which is used to recommend the apparels. The DataFrame consists of Image path and its Category."
   ]
  },
  {
   "cell_type": "code",
   "execution_count": 13,
   "metadata": {
    "collapsed": true,
    "deletable": true,
    "editable": true
   },
   "outputs": [],
   "source": [
    "database_dict =  {'Category':categories,'path':image_path}\n",
    "database = pd.DataFrame(database_dict)"
   ]
  },
  {
   "cell_type": "markdown",
   "metadata": {
    "deletable": true,
    "editable": true
   },
   "source": [
    "The below code will iterate through the dataset to extract the pixels. Below are the steps involved:\n",
    "1. RGB image is converted to Grayscale\n",
    "2. Grayscale image is resized to 30x30.\n",
    "3. Image Pixels are extracted and appended to \"data\" dataframe. Each row consists pixels of one Image.\n",
    "4. Column names are created, here the column names will start from pixel1 to pixel 900 and these values are stored in \"Columns_names\" list.\n",
    "5. Category column which is created from \"categories\" list is appended to the \"data\" dataframe. "
   ]
  },
  {
   "cell_type": "code",
   "execution_count": 14,
   "metadata": {
    "collapsed": true,
    "deletable": true,
    "editable": true
   },
   "outputs": [],
   "source": [
    "i=0\n",
    "for img in image_path:\n",
    "    raw_image = Image.open(img).convert(\"LA\")\n",
    "    grey_scale_image=raw_image.resize((30,30))\n",
    "    pixels = list(grey_scale_image.getdata())\n",
    "    if i==0:\n",
    "        column_names =[]\n",
    "        counter = 0\n",
    "        for pixel in pixels:\n",
    "            counter += 1\n",
    "            column_names.append('pixel'+ str(counter))\n",
    "        pixel_data =[]\n",
    "        counter = 0\n",
    "        for pixel in pixels:\n",
    "            pixel_data.append(pixels[counter][0])\n",
    "            counter += 1 \n",
    "        pixel_data = [pixel_data]\n",
    "        data=pd.DataFrame(pixel_data)\n",
    "        i = 1\n",
    "    elif i==1:\n",
    "        pixel_data =[]\n",
    "        counter = 0\n",
    "        for pixel in pixels:\n",
    "            pixel_data.append(pixels[counter][0])\n",
    "            counter += 1 \n",
    "           # pixel_data\n",
    "        pixel_data = [pixel_data]\n",
    "        data=data.append(pixel_data,ignore_index=False)"
   ]
  },
  {
   "cell_type": "code",
   "execution_count": 15,
   "metadata": {
    "collapsed": true,
    "deletable": true,
    "editable": true
   },
   "outputs": [],
   "source": [
    "data[\"Category\"]= categories\n",
    "column_names.append(\"Category\")\n",
    "data.columns = column_names"
   ]
  },
  {
   "cell_type": "code",
   "execution_count": 16,
   "metadata": {
    "collapsed": true,
    "deletable": true,
    "editable": true
   },
   "outputs": [],
   "source": [
    "data.to_csv(\"pixels.csv\")"
   ]
  },
  {
   "cell_type": "code",
   "execution_count": 17,
   "metadata": {
    "collapsed": true,
    "deletable": true,
    "editable": true
   },
   "outputs": [],
   "source": [
    "data_csv = pd.read_csv(\"pixels.csv\")"
   ]
  },
  {
   "cell_type": "code",
   "execution_count": 18,
   "metadata": {
    "collapsed": true,
    "deletable": true,
    "editable": true
   },
   "outputs": [],
   "source": [
    "data1 = data_csv.copy()"
   ]
  },
  {
   "cell_type": "code",
   "execution_count": 19,
   "metadata": {
    "collapsed": false,
    "deletable": true,
    "editable": true
   },
   "outputs": [
    {
     "data": {
      "text/html": [
       "<div>\n",
       "<style scoped>\n",
       "    .dataframe tbody tr th:only-of-type {\n",
       "        vertical-align: middle;\n",
       "    }\n",
       "\n",
       "    .dataframe tbody tr th {\n",
       "        vertical-align: top;\n",
       "    }\n",
       "\n",
       "    .dataframe thead th {\n",
       "        text-align: right;\n",
       "    }\n",
       "</style>\n",
       "<table border=\"1\" class=\"dataframe\">\n",
       "  <thead>\n",
       "    <tr style=\"text-align: right;\">\n",
       "      <th></th>\n",
       "      <th>Unnamed: 0</th>\n",
       "      <th>pixel1</th>\n",
       "      <th>pixel2</th>\n",
       "      <th>pixel3</th>\n",
       "      <th>pixel4</th>\n",
       "      <th>pixel5</th>\n",
       "      <th>pixel6</th>\n",
       "      <th>pixel7</th>\n",
       "      <th>pixel8</th>\n",
       "      <th>pixel9</th>\n",
       "      <th>...</th>\n",
       "      <th>pixel892</th>\n",
       "      <th>pixel893</th>\n",
       "      <th>pixel894</th>\n",
       "      <th>pixel895</th>\n",
       "      <th>pixel896</th>\n",
       "      <th>pixel897</th>\n",
       "      <th>pixel898</th>\n",
       "      <th>pixel899</th>\n",
       "      <th>pixel900</th>\n",
       "      <th>Category</th>\n",
       "    </tr>\n",
       "  </thead>\n",
       "  <tbody>\n",
       "    <tr>\n",
       "      <th>0</th>\n",
       "      <td>0</td>\n",
       "      <td>11</td>\n",
       "      <td>12</td>\n",
       "      <td>12</td>\n",
       "      <td>14</td>\n",
       "      <td>20</td>\n",
       "      <td>25</td>\n",
       "      <td>11</td>\n",
       "      <td>55</td>\n",
       "      <td>21</td>\n",
       "      <td>...</td>\n",
       "      <td>87</td>\n",
       "      <td>86</td>\n",
       "      <td>84</td>\n",
       "      <td>83</td>\n",
       "      <td>82</td>\n",
       "      <td>83</td>\n",
       "      <td>83</td>\n",
       "      <td>82</td>\n",
       "      <td>80</td>\n",
       "      <td>dress</td>\n",
       "    </tr>\n",
       "    <tr>\n",
       "      <th>1</th>\n",
       "      <td>0</td>\n",
       "      <td>220</td>\n",
       "      <td>222</td>\n",
       "      <td>224</td>\n",
       "      <td>226</td>\n",
       "      <td>226</td>\n",
       "      <td>230</td>\n",
       "      <td>233</td>\n",
       "      <td>234</td>\n",
       "      <td>236</td>\n",
       "      <td>...</td>\n",
       "      <td>238</td>\n",
       "      <td>238</td>\n",
       "      <td>238</td>\n",
       "      <td>237</td>\n",
       "      <td>237</td>\n",
       "      <td>237</td>\n",
       "      <td>237</td>\n",
       "      <td>237</td>\n",
       "      <td>238</td>\n",
       "      <td>dress</td>\n",
       "    </tr>\n",
       "    <tr>\n",
       "      <th>2</th>\n",
       "      <td>0</td>\n",
       "      <td>149</td>\n",
       "      <td>152</td>\n",
       "      <td>130</td>\n",
       "      <td>88</td>\n",
       "      <td>70</td>\n",
       "      <td>79</td>\n",
       "      <td>228</td>\n",
       "      <td>204</td>\n",
       "      <td>189</td>\n",
       "      <td>...</td>\n",
       "      <td>0</td>\n",
       "      <td>0</td>\n",
       "      <td>0</td>\n",
       "      <td>0</td>\n",
       "      <td>0</td>\n",
       "      <td>0</td>\n",
       "      <td>9</td>\n",
       "      <td>76</td>\n",
       "      <td>77</td>\n",
       "      <td>dress</td>\n",
       "    </tr>\n",
       "    <tr>\n",
       "      <th>3</th>\n",
       "      <td>0</td>\n",
       "      <td>65</td>\n",
       "      <td>66</td>\n",
       "      <td>66</td>\n",
       "      <td>67</td>\n",
       "      <td>67</td>\n",
       "      <td>68</td>\n",
       "      <td>68</td>\n",
       "      <td>68</td>\n",
       "      <td>68</td>\n",
       "      <td>...</td>\n",
       "      <td>79</td>\n",
       "      <td>78</td>\n",
       "      <td>77</td>\n",
       "      <td>76</td>\n",
       "      <td>75</td>\n",
       "      <td>74</td>\n",
       "      <td>74</td>\n",
       "      <td>73</td>\n",
       "      <td>72</td>\n",
       "      <td>dress</td>\n",
       "    </tr>\n",
       "    <tr>\n",
       "      <th>4</th>\n",
       "      <td>0</td>\n",
       "      <td>255</td>\n",
       "      <td>255</td>\n",
       "      <td>255</td>\n",
       "      <td>255</td>\n",
       "      <td>255</td>\n",
       "      <td>255</td>\n",
       "      <td>255</td>\n",
       "      <td>255</td>\n",
       "      <td>255</td>\n",
       "      <td>...</td>\n",
       "      <td>255</td>\n",
       "      <td>255</td>\n",
       "      <td>255</td>\n",
       "      <td>255</td>\n",
       "      <td>255</td>\n",
       "      <td>255</td>\n",
       "      <td>255</td>\n",
       "      <td>255</td>\n",
       "      <td>255</td>\n",
       "      <td>dress</td>\n",
       "    </tr>\n",
       "    <tr>\n",
       "      <th>...</th>\n",
       "      <td>...</td>\n",
       "      <td>...</td>\n",
       "      <td>...</td>\n",
       "      <td>...</td>\n",
       "      <td>...</td>\n",
       "      <td>...</td>\n",
       "      <td>...</td>\n",
       "      <td>...</td>\n",
       "      <td>...</td>\n",
       "      <td>...</td>\n",
       "      <td>...</td>\n",
       "      <td>...</td>\n",
       "      <td>...</td>\n",
       "      <td>...</td>\n",
       "      <td>...</td>\n",
       "      <td>...</td>\n",
       "      <td>...</td>\n",
       "      <td>...</td>\n",
       "      <td>...</td>\n",
       "      <td>...</td>\n",
       "      <td>...</td>\n",
       "    </tr>\n",
       "    <tr>\n",
       "      <th>11380</th>\n",
       "      <td>0</td>\n",
       "      <td>255</td>\n",
       "      <td>255</td>\n",
       "      <td>255</td>\n",
       "      <td>255</td>\n",
       "      <td>255</td>\n",
       "      <td>255</td>\n",
       "      <td>229</td>\n",
       "      <td>123</td>\n",
       "      <td>106</td>\n",
       "      <td>...</td>\n",
       "      <td>194</td>\n",
       "      <td>222</td>\n",
       "      <td>255</td>\n",
       "      <td>255</td>\n",
       "      <td>255</td>\n",
       "      <td>255</td>\n",
       "      <td>255</td>\n",
       "      <td>255</td>\n",
       "      <td>255</td>\n",
       "      <td>shorts</td>\n",
       "    </tr>\n",
       "    <tr>\n",
       "      <th>11381</th>\n",
       "      <td>0</td>\n",
       "      <td>255</td>\n",
       "      <td>255</td>\n",
       "      <td>255</td>\n",
       "      <td>255</td>\n",
       "      <td>255</td>\n",
       "      <td>255</td>\n",
       "      <td>255</td>\n",
       "      <td>255</td>\n",
       "      <td>255</td>\n",
       "      <td>...</td>\n",
       "      <td>232</td>\n",
       "      <td>244</td>\n",
       "      <td>237</td>\n",
       "      <td>227</td>\n",
       "      <td>255</td>\n",
       "      <td>255</td>\n",
       "      <td>255</td>\n",
       "      <td>255</td>\n",
       "      <td>255</td>\n",
       "      <td>shorts</td>\n",
       "    </tr>\n",
       "    <tr>\n",
       "      <th>11382</th>\n",
       "      <td>0</td>\n",
       "      <td>255</td>\n",
       "      <td>255</td>\n",
       "      <td>255</td>\n",
       "      <td>255</td>\n",
       "      <td>255</td>\n",
       "      <td>255</td>\n",
       "      <td>255</td>\n",
       "      <td>255</td>\n",
       "      <td>255</td>\n",
       "      <td>...</td>\n",
       "      <td>255</td>\n",
       "      <td>255</td>\n",
       "      <td>255</td>\n",
       "      <td>255</td>\n",
       "      <td>255</td>\n",
       "      <td>255</td>\n",
       "      <td>255</td>\n",
       "      <td>255</td>\n",
       "      <td>255</td>\n",
       "      <td>shorts</td>\n",
       "    </tr>\n",
       "    <tr>\n",
       "      <th>11383</th>\n",
       "      <td>0</td>\n",
       "      <td>246</td>\n",
       "      <td>247</td>\n",
       "      <td>215</td>\n",
       "      <td>137</td>\n",
       "      <td>163</td>\n",
       "      <td>189</td>\n",
       "      <td>245</td>\n",
       "      <td>241</td>\n",
       "      <td>143</td>\n",
       "      <td>...</td>\n",
       "      <td>229</td>\n",
       "      <td>232</td>\n",
       "      <td>232</td>\n",
       "      <td>232</td>\n",
       "      <td>232</td>\n",
       "      <td>232</td>\n",
       "      <td>232</td>\n",
       "      <td>232</td>\n",
       "      <td>233</td>\n",
       "      <td>shorts</td>\n",
       "    </tr>\n",
       "    <tr>\n",
       "      <th>11384</th>\n",
       "      <td>0</td>\n",
       "      <td>255</td>\n",
       "      <td>255</td>\n",
       "      <td>255</td>\n",
       "      <td>255</td>\n",
       "      <td>252</td>\n",
       "      <td>248</td>\n",
       "      <td>250</td>\n",
       "      <td>252</td>\n",
       "      <td>254</td>\n",
       "      <td>...</td>\n",
       "      <td>255</td>\n",
       "      <td>255</td>\n",
       "      <td>255</td>\n",
       "      <td>255</td>\n",
       "      <td>255</td>\n",
       "      <td>255</td>\n",
       "      <td>255</td>\n",
       "      <td>255</td>\n",
       "      <td>255</td>\n",
       "      <td>shorts</td>\n",
       "    </tr>\n",
       "  </tbody>\n",
       "</table>\n",
       "<p>11385 rows × 902 columns</p>\n",
       "</div>"
      ],
      "text/plain": [
       "       Unnamed: 0  pixel1  pixel2  pixel3  pixel4  pixel5  pixel6  pixel7  \\\n",
       "0               0      11      12      12      14      20      25      11   \n",
       "1               0     220     222     224     226     226     230     233   \n",
       "2               0     149     152     130      88      70      79     228   \n",
       "3               0      65      66      66      67      67      68      68   \n",
       "4               0     255     255     255     255     255     255     255   \n",
       "...           ...     ...     ...     ...     ...     ...     ...     ...   \n",
       "11380           0     255     255     255     255     255     255     229   \n",
       "11381           0     255     255     255     255     255     255     255   \n",
       "11382           0     255     255     255     255     255     255     255   \n",
       "11383           0     246     247     215     137     163     189     245   \n",
       "11384           0     255     255     255     255     252     248     250   \n",
       "\n",
       "       pixel8  pixel9  ...  pixel892  pixel893  pixel894  pixel895  pixel896  \\\n",
       "0          55      21  ...        87        86        84        83        82   \n",
       "1         234     236  ...       238       238       238       237       237   \n",
       "2         204     189  ...         0         0         0         0         0   \n",
       "3          68      68  ...        79        78        77        76        75   \n",
       "4         255     255  ...       255       255       255       255       255   \n",
       "...       ...     ...  ...       ...       ...       ...       ...       ...   \n",
       "11380     123     106  ...       194       222       255       255       255   \n",
       "11381     255     255  ...       232       244       237       227       255   \n",
       "11382     255     255  ...       255       255       255       255       255   \n",
       "11383     241     143  ...       229       232       232       232       232   \n",
       "11384     252     254  ...       255       255       255       255       255   \n",
       "\n",
       "       pixel897  pixel898  pixel899  pixel900  Category  \n",
       "0            83        83        82        80     dress  \n",
       "1           237       237       237       238     dress  \n",
       "2             0         9        76        77     dress  \n",
       "3            74        74        73        72     dress  \n",
       "4           255       255       255       255     dress  \n",
       "...         ...       ...       ...       ...       ...  \n",
       "11380       255       255       255       255    shorts  \n",
       "11381       255       255       255       255    shorts  \n",
       "11382       255       255       255       255    shorts  \n",
       "11383       232       232       232       233    shorts  \n",
       "11384       255       255       255       255    shorts  \n",
       "\n",
       "[11385 rows x 902 columns]"
      ]
     },
     "execution_count": 19,
     "metadata": {},
     "output_type": "execute_result"
    }
   ],
   "source": [
    "data1"
   ]
  },
  {
   "cell_type": "code",
   "execution_count": 26,
   "metadata": {
    "collapsed": true,
    "deletable": true,
    "editable": true
   },
   "outputs": [],
   "source": [
    "\n",
    "\n",
    "#data1 = data1.drop(\"Unnamed: 0\",axis=1)"
   ]
  },
  {
   "cell_type": "code",
   "execution_count": 24,
   "metadata": {
    "collapsed": true,
    "deletable": true,
    "editable": true
   },
   "outputs": [],
   "source": [
    "X = data1.loc[:, ~data1.columns.isin(['Category'])]\n",
    "Y = data1.loc[:, data1.columns == 'Category']\n",
    "\n",
    "X_train, X_test, Y_train, Y_test = train_test_split(X, Y, test_size=0.20, random_state=101)"
   ]
  },
  {
   "cell_type": "code",
   "execution_count": 25,
   "metadata": {
    "collapsed": false,
    "deletable": true,
    "editable": true
   },
   "outputs": [
    {
     "name": "stdout",
     "output_type": "stream",
     "text": [
      "(9108, 900)\n",
      "(9108, 1)\n",
      "(2277, 900)\n",
      "(2277, 1)\n"
     ]
    }
   ],
   "source": [
    "# Shape of the 4 created datasets\n",
    "print(X_train.shape)\n",
    "print(Y_train.shape)\n",
    "print(X_test.shape)\n",
    "print(Y_test.shape)"
   ]
  },
  {
   "cell_type": "code",
   "execution_count": 28,
   "metadata": {
    "collapsed": false,
    "deletable": true,
    "editable": true
   },
   "outputs": [
    {
     "name": "stderr",
     "output_type": "stream",
     "text": [
      "C:\\Users\\mukes\\AppData\\Local\\Continuum\\anaconda3\\lib\\site-packages\\dask\\dataframe\\utils.py:14: FutureWarning: pandas.util.testing is deprecated. Use the functions in the public API at pandas.testing instead.\n",
      "  import pandas.util.testing as tm\n"
     ]
    }
   ],
   "source": [
    "from sklearn import preprocessing\n",
    "from sklearn.metrics import mean_squared_error\n",
    "from sklearn.metrics import r2_score\n",
    "from sklearn.metrics import accuracy_score, log_loss,classification_report,confusion_matrix\n",
    "from sklearn.neighbors import KNeighborsClassifier\n",
    "from sklearn.tree import DecisionTreeClassifier\n",
    "from sklearn.ensemble import GradientBoostingClassifier\n",
    "from sklearn.preprocessing import MultiLabelBinarizer\n",
    "from sklearn.naive_bayes import GaussianNB\n",
    "from xgboost import XGBClassifier\n",
    "from sklearn.model_selection import GridSearchCV\n",
    "from xgboost import plot_tree\n",
    "from sklearn.preprocessing import OneHotEncoder\n",
    "import random, shutil\n",
    "from sklearn.cluster import KMeans\n",
    "from sklearn.decomposition import PCA"
   ]
  },
  {
   "cell_type": "code",
   "execution_count": 29,
   "metadata": {
    "collapsed": false,
    "deletable": true,
    "editable": true
   },
   "outputs": [
    {
     "name": "stdout",
     "output_type": "stream",
     "text": [
      "Accuracy:  0.6996047430830039\n",
      "----------------------------------------------------------------------------------\n",
      "Classification Report\n",
      "---------------------------------------\n",
      "              precision    recall  f1-score   support\n",
      "\n",
      "       dress       0.67      0.65      0.66       511\n",
      "       pants       0.75      0.76      0.75       553\n",
      "       shirt       0.74      0.75      0.74       338\n",
      "       shoes       0.76      0.72      0.74       706\n",
      "      shorts       0.39      0.45      0.42       169\n",
      "\n",
      "    accuracy                           0.70      2277\n",
      "   macro avg       0.66      0.67      0.66      2277\n",
      "weighted avg       0.70      0.70      0.70      2277\n",
      "\n",
      "----------------------------------------------------------------------------------\n",
      "Confusion Matrix\n",
      "---------------------------------------\n",
      "[[334  54  35  67  21]\n",
      " [ 52 418   8  44  31]\n",
      " [ 33  18 254  15  18]\n",
      " [ 67  49  29 511  50]\n",
      " [ 14  22  18  39  76]]\n"
     ]
    }
   ],
   "source": [
    "#1. Decision tree classifier \n",
    "decision = DecisionTreeClassifier()\n",
    "decision.fit(X_train, Y_train)\n",
    "DecisionTreeClassifier_predictions = decision.predict(X_test)\n",
    "\n",
    "acc = accuracy_score(Y_test, DecisionTreeClassifier_predictions)\n",
    "print(\"Accuracy:  \"+str(acc))\n",
    "print(\"----------------------------------------------------------------------------------\")\n",
    "print(\"Classification Report\")\n",
    "print(\"---------------------------------------\")\n",
    "print(classification_report(Y_test,DecisionTreeClassifier_predictions))\n",
    "print(\"----------------------------------------------------------------------------------\")\n",
    "print(\"Confusion Matrix\")\n",
    "print(\"---------------------------------------\")\n",
    "print(confusion_matrix(Y_test,DecisionTreeClassifier_predictions))"
   ]
  },
  {
   "cell_type": "code",
   "execution_count": 30,
   "metadata": {
    "collapsed": false,
    "deletable": true,
    "editable": true
   },
   "outputs": [
    {
     "name": "stderr",
     "output_type": "stream",
     "text": [
      "C:\\Users\\mukes\\AppData\\Local\\Continuum\\anaconda3\\lib\\site-packages\\sklearn\\utils\\validation.py:73: DataConversionWarning: A column-vector y was passed when a 1d array was expected. Please change the shape of y to (n_samples, ), for example using ravel().\n",
      "  return f(**kwargs)\n"
     ]
    },
    {
     "name": "stdout",
     "output_type": "stream",
     "text": [
      "Accuracy:  0.8326745718050066\n",
      "----------------------------------------------------------------------------------\n",
      "Classification Report\n",
      "---------------------------------------\n",
      "              precision    recall  f1-score   support\n",
      "\n",
      "       dress       0.78      0.85      0.81       511\n",
      "       pants       0.88      0.84      0.86       553\n",
      "       shirt       0.87      0.86      0.86       338\n",
      "       shoes       0.83      0.85      0.84       706\n",
      "      shorts       0.80      0.61      0.69       169\n",
      "\n",
      "    accuracy                           0.83      2277\n",
      "   macro avg       0.83      0.80      0.81      2277\n",
      "weighted avg       0.83      0.83      0.83      2277\n",
      "\n",
      "----------------------------------------------------------------------------------\n",
      "Confusion Matrix\n",
      "---------------------------------------\n",
      "[[436  13  18  42   2]\n",
      " [ 37 467  11  32   6]\n",
      " [ 25   3 290  15   5]\n",
      " [ 52  33   9 600  12]\n",
      " [ 11  17   7  31 103]]\n"
     ]
    }
   ],
   "source": [
    "# 2. Creating GradientBoostingClassifier\n",
    "Gradient = GradientBoostingClassifier()\n",
    "Gradient.fit(X_train, Y_train)\n",
    "GradientBoostingClassifier_predictions = Gradient.predict(X_test)\n",
    "\n",
    "acc = accuracy_score(Y_test, GradientBoostingClassifier_predictions)\n",
    "print(\"Accuracy:  \"+str(acc))\n",
    "print(\"----------------------------------------------------------------------------------\")\n",
    "print(\"Classification Report\")\n",
    "print(\"---------------------------------------\")\n",
    "print(classification_report(Y_test,GradientBoostingClassifier_predictions))\n",
    "print(\"----------------------------------------------------------------------------------\")\n",
    "print(\"Confusion Matrix\")\n",
    "print(\"---------------------------------------\")\n",
    "print(confusion_matrix(Y_test,GradientBoostingClassifier_predictions))"
   ]
  },
  {
   "cell_type": "code",
   "execution_count": 31,
   "metadata": {
    "collapsed": false,
    "deletable": true,
    "editable": true
   },
   "outputs": [
    {
     "name": "stderr",
     "output_type": "stream",
     "text": [
      "C:\\Users\\mukes\\AppData\\Local\\Continuum\\anaconda3\\lib\\site-packages\\sklearn\\utils\\validation.py:73: DataConversionWarning: A column-vector y was passed when a 1d array was expected. Please change the shape of y to (n_samples, ), for example using ravel().\n",
      "  return f(**kwargs)\n"
     ]
    },
    {
     "name": "stdout",
     "output_type": "stream",
     "text": [
      "Accuracy:  0.8770311813790075\n",
      "----------------------------------------------------------------------------------\n",
      "Classification Report\n",
      "---------------------------------------\n",
      "              precision    recall  f1-score   support\n",
      "\n",
      "       dress       0.85      0.89      0.87       511\n",
      "       pants       0.89      0.89      0.89       553\n",
      "       shirt       0.91      0.88      0.90       338\n",
      "       shoes       0.87      0.90      0.88       706\n",
      "      shorts       0.86      0.70      0.78       169\n",
      "\n",
      "    accuracy                           0.88      2277\n",
      "   macro avg       0.88      0.85      0.86      2277\n",
      "weighted avg       0.88      0.88      0.88      2277\n",
      "\n",
      "----------------------------------------------------------------------------------\n",
      "Confusion Matrix\n",
      "---------------------------------------\n",
      "[[457  16  13  23   2]\n",
      " [ 19 490   8  31   5]\n",
      " [ 18   3 299  13   5]\n",
      " [ 39  23   5 632   7]\n",
      " [  7  17   2  24 119]]\n"
     ]
    }
   ],
   "source": [
    "# 3. XGBoost Classifier\n",
    "XGBmodel = XGBClassifier()\n",
    "XGBmodel.fit(X_train, Y_train)\n",
    "XGBmodel_prediction = XGBmodel.predict(X_test)\n",
    "\n",
    "\n",
    "acc = accuracy_score(Y_test, XGBmodel_prediction)\n",
    "print(\"Accuracy:  \"+str(acc))\n",
    "print(\"----------------------------------------------------------------------------------\")\n",
    "print(\"Classification Report\")\n",
    "print(\"---------------------------------------\")\n",
    "print(classification_report(Y_test,XGBmodel_prediction))\n",
    "print(\"----------------------------------------------------------------------------------\")\n",
    "print(\"Confusion Matrix\")\n",
    "print(\"---------------------------------------\")\n",
    "print(confusion_matrix(Y_test,XGBmodel_prediction))"
   ]
  },
  {
   "cell_type": "code",
   "execution_count": 32,
   "metadata": {
    "collapsed": false,
    "deletable": true,
    "editable": true
   },
   "outputs": [
    {
     "name": "stdout",
     "output_type": "stream",
     "text": [
      "Fitting 5 folds for each of 16 candidates, totalling 80 fits\n"
     ]
    },
    {
     "name": "stderr",
     "output_type": "stream",
     "text": [
      "[Parallel(n_jobs=1)]: Using backend SequentialBackend with 1 concurrent workers.\n",
      "C:\\Users\\mukes\\AppData\\Local\\Continuum\\anaconda3\\lib\\site-packages\\sklearn\\utils\\validation.py:73: DataConversionWarning: A column-vector y was passed when a 1d array was expected. Please change the shape of y to (n_samples, ), for example using ravel().\n",
      "  return f(**kwargs)\n",
      "[Parallel(n_jobs=1)]: Done  80 out of  80 | elapsed: 102.5min finished\n"
     ]
    },
    {
     "data": {
      "text/plain": [
       "GridSearchCV(estimator=XGBClassifier(base_score=None, booster=None,\n",
       "                                     colsample_bylevel=None,\n",
       "                                     colsample_bynode=None,\n",
       "                                     colsample_bytree=None, gamma=None,\n",
       "                                     gpu_id=None, importance_type='gain',\n",
       "                                     interaction_constraints=None,\n",
       "                                     learning_rate=None, max_delta_step=None,\n",
       "                                     max_depth=None, min_child_weight=None,\n",
       "                                     missing=nan, monotone_constraints=None,\n",
       "                                     n_estimators=100, n_jobs=None,\n",
       "                                     num_parallel_tree=None, random_state=None,\n",
       "                                     reg_alpha=None, reg_lambda=None,\n",
       "                                     scale_pos_weight=None, subsample=None,\n",
       "                                     tree_method=None,\n",
       "                                     validate_parameters=False,\n",
       "                                     verbosity=None),\n",
       "             param_grid={'max_depth': [2, 4, 6, 8],\n",
       "                         'n_estimators': [50, 100, 200, 400]},\n",
       "             scoring='accuracy', verbose=1)"
      ]
     },
     "execution_count": 32,
     "metadata": {},
     "output_type": "execute_result"
    }
   ],
   "source": [
    "from sklearn.model_selection import GridSearchCV\n",
    "XGBmodel = XGBClassifier()\n",
    "\n",
    "optimization_dict = {'max_depth': [2,4,6,8],\n",
    "                     'n_estimators': [50,100,200,400]}\n",
    "\n",
    "XGBmodel = GridSearchCV(XGBmodel, optimization_dict, \n",
    "                     scoring='accuracy', verbose=1)\n",
    "XGBmodel.fit(X_train, Y_train)"
   ]
  },
  {
   "cell_type": "code",
   "execution_count": 33,
   "metadata": {
    "collapsed": false,
    "deletable": true,
    "editable": true
   },
   "outputs": [
    {
     "name": "stdout",
     "output_type": "stream",
     "text": [
      "Accuracy:  0.8792270531400966\n",
      "----------------------------------------------------------------------------------\n",
      "Classification Report\n",
      "---------------------------------------\n",
      "              precision    recall  f1-score   support\n",
      "\n",
      "       dress       0.83      0.90      0.87       511\n",
      "       pants       0.90      0.89      0.89       553\n",
      "       shirt       0.92      0.88      0.90       338\n",
      "       shoes       0.89      0.90      0.89       706\n",
      "      shorts       0.83      0.68      0.75       169\n",
      "\n",
      "    accuracy                           0.88      2277\n",
      "   macro avg       0.88      0.85      0.86      2277\n",
      "weighted avg       0.88      0.88      0.88      2277\n",
      "\n",
      "----------------------------------------------------------------------------------\n",
      "Confusion Matrix\n",
      "---------------------------------------\n",
      "[[460  11  14  23   3]\n",
      " [ 19 494   6  26   8]\n",
      " [ 20   6 298   8   6]\n",
      " [ 41  20   4 635   6]\n",
      " [ 11  20   2  21 115]]\n"
     ]
    }
   ],
   "source": [
    "XGBmodel_prediction = XGBmodel.predict(X_test)\n",
    "\n",
    "acc = accuracy_score(Y_test, XGBmodel_prediction)\n",
    "print(\"Accuracy:  \"+str(acc))\n",
    "print(\"----------------------------------------------------------------------------------\")\n",
    "print(\"Classification Report\")\n",
    "print(\"---------------------------------------\")\n",
    "print(classification_report(Y_test,XGBmodel_prediction))\n",
    "print(\"----------------------------------------------------------------------------------\")\n",
    "print(\"Confusion Matrix\")\n",
    "print(\"---------------------------------------\")\n",
    "print(confusion_matrix(Y_test,XGBmodel_prediction))"
   ]
  },
  {
   "cell_type": "code",
   "execution_count": 52,
   "metadata": {
    "collapsed": false,
    "deletable": true,
    "editable": true
   },
   "outputs": [
    {
     "data": {
      "image/png": "[encoded data removed]",
      "text/plain": [
       "<Figure size 432x288 with 1 Axes>"
      ]
     },
     "metadata": {
      "needs_background": "light"
     },
     "output_type": "display_data"
    },
    {
     "name": "stdout",
     "output_type": "stream",
     "text": [
      "Output: dress\n"
     ]
    }
   ],
   "source": [
    "# dress\n",
    "raw_image = Image.open(\"CoralaDress.jpg\").convert(\"LA\")\n",
    "im=Image.open(\"CoralaDress.jpg\")\n",
    "grey_scale_image=raw_image.resize((30,30))\n",
    "pixels = list(grey_scale_image.getdata())\n",
    "pixel_data =[]\n",
    "counter = 0\n",
    "for pixel in pixels:\n",
    "    pixel_data.append(pixels[counter][0])\n",
    "    counter += 1 \n",
    "    # pixel_data\n",
    "pixel_data = [pixel_data]\n",
    "data2=pd.DataFrame(pixel_data)\n",
    "data2.columns=column_names[0:900]\n",
    "test_output = XGBmodel.predict(data2)[0][0:6]\n",
    "plt.imshow(im)\n",
    "plt.show()\n",
    "print(\"Output: \"+test_output)"
   ]
  },
  {
   "cell_type": "code",
   "execution_count": 54,
   "metadata": {
    "collapsed": false,
    "deletable": true,
    "editable": true
   },
   "outputs": [
    {
     "name": "stdout",
     "output_type": "stream",
     "text": [
      "**********************Input*********************\n"
     ]
    },
    {
     "data": {
      "image/png": "[encoded data removed]",
      "text/plain": [
       "<Figure size 432x288 with 1 Axes>"
      ]
     },
     "metadata": {
      "needs_background": "light"
     },
     "output_type": "display_data"
    },
    {
     "name": "stdout",
     "output_type": "stream",
     "text": [
      "**Output**\n"
     ]
    },
    {
     "data": {
      "image/png": "[encoded data removed]",
      "text/plain": [
       "<Figure size 432x288 with 1 Axes>"
      ]
     },
     "metadata": {
      "needs_background": "light"
     },
     "output_type": "display_data"
    },
    {
     "data": {
      "image/png": "[encoded data removed]",
      "text/plain": [
       "<Figure size 432x288 with 1 Axes>"
      ]
     },
     "metadata": {
      "needs_background": "light"
     },
     "output_type": "display_data"
    },
    {
     "data": {
      "image/png": "[encoded data removed]",
      "text/plain": [
       "<Figure size 432x288 with 1 Axes>"
      ]
     },
     "metadata": {
      "needs_background": "light"
     },
     "output_type": "display_data"
    },
    {
     "data": {
      "image/png": "[encoded data removed]",
      "text/plain": [
       "<Figure size 432x288 with 1 Axes>"
      ]
     },
     "metadata": {
      "needs_background": "light"
     },
     "output_type": "display_data"
    },
    {
     "data": {
      "image/png": "[encoded data removed]",
      "text/plain": [
       "<Figure size 432x288 with 1 Axes>"
      ]
     },
     "metadata": {
      "needs_background": "light"
     },
     "output_type": "display_data"
    }
   ],
   "source": [
    "print(\"**********************Input*********************\")\n",
    "path = \"manshort1.JFIF\"\n",
    "input_image = Image.open(path)\n",
    "plt.imshow(input_image)\n",
    "plt.show()\n",
    "raw_image = Image.open(path).convert(\"LA\")\n",
    "grey_scale_image=raw_image.resize((30,30))\n",
    "pixels = list(grey_scale_image.getdata())\n",
    "pixel_data =[]\n",
    "counter = 0\n",
    "for pixel in pixels:\n",
    "    pixel_data.append(pixels[counter][0])\n",
    "    counter += 1 \n",
    "    # pixel_data\n",
    "pixel_data = [pixel_data]\n",
    "data2=pd.DataFrame(pixel_data)\n",
    "data2.columns=column_names[0:900]\n",
    "test_output = XGBmodel.predict(data2)[0][0:6]\n",
    "print(\"**Output**\")\n",
    "recommend=database.query(\"Category == \"\"'\"+test_output+\"'\"\"\").sample(5).reset_index()\n",
    "#recommed = \n",
    "inc=0\n",
    "for path in recommend[\"path\"]:\n",
    "    im = Image.open(recommend[\"path\"][inc])\n",
    "    plt.imshow(im)\n",
    "    plt.show()\n",
    "    inc +=1"
   ]
  },
  {
   "cell_type": "code",
   "execution_count": null,
   "metadata": {
    "collapsed": true,
    "deletable": true,
    "editable": true
   },
   "outputs": [],
   "source": [
    "### CNN"
   ]
  },
  {
   "cell_type": "code",
   "execution_count": 55,
   "metadata": {
    "collapsed": false,
    "deletable": true,
    "editable": true
   },
   "outputs": [
    {
     "name": "stdout",
     "output_type": "stream",
     "text": [
      "Found 11051 images belonging to 5 classes.\n"
     ]
    }
   ],
   "source": [
    "# All the images are loaded into the \"training_set\" variable using ImageDataGenerator functions from Keras packages\n",
    "train_datagen = ImageDataGenerator(rescale = 1./255,\n",
    "                                   shear_range = 0.2,\n",
    "                                   zoom_range = 0.2,\n",
    "                                   horizontal_flip = True)\n",
    "training_set = train_datagen.flow_from_directory('CNN//train',\n",
    "                      \n",
    "                                                 target_size = (64, 64),\n",
    "                                                 batch_size = 32,\n",
    "                                                 class_mode = 'categorical')"
   ]
  },
  {
   "cell_type": "code",
   "execution_count": 56,
   "metadata": {
    "collapsed": false,
    "deletable": true,
    "editable": true
   },
   "outputs": [
    {
     "name": "stdout",
     "output_type": "stream",
     "text": [
      "Found 2829 images belonging to 5 classes.\n"
     ]
    }
   ],
   "source": [
    "# All the images are loaded into the \"test_set\" variable using ImageDataGenerator functions from Keras packages\n",
    "test_datagen = ImageDataGenerator(rescale = 1./255)\n",
    "test_set = test_datagen.flow_from_directory('CNN//test',\n",
    "                                            target_size = (64, 64),\n",
    "                                            batch_size = 32,\n",
    "                                            class_mode = 'categorical')"
   ]
  },
  {
   "cell_type": "code",
   "execution_count": 57,
   "metadata": {
    "collapsed": true,
    "deletable": true,
    "editable": true
   },
   "outputs": [],
   "source": [
    "# Initializing the size of the input images\n",
    "input_shape = (64, 64, 3)"
   ]
  },
  {
   "cell_type": "code",
   "execution_count": 58,
   "metadata": {
    "collapsed": false,
    "deletable": true,
    "editable": true
   },
   "outputs": [
    {
     "name": "stdout",
     "output_type": "stream",
     "text": [
      "Epoch 1/5\n",
      "346/346 [==============================] - 167s 484ms/step - loss: 0.3278 - accuracy: 0.8646 - val_loss: 0.2374 - val_accuracy: 0.9257\n",
      "\n",
      "Epoch 00001: val_loss improved from inf to 0.23744, saving model to CNN_checkpoint\n",
      "Epoch 2/5\n",
      "346/346 [==============================] - 122s 354ms/step - loss: 0.1736 - accuracy: 0.9361 - val_loss: 0.2041 - val_accuracy: 0.9668\n",
      "\n",
      "Epoch 00002: val_loss improved from 0.23744 to 0.20409, saving model to CNN_checkpoint\n",
      "Epoch 3/5\n",
      "346/346 [==============================] - 121s 349ms/step - loss: 0.1396 - accuracy: 0.9487 - val_loss: 0.1349 - val_accuracy: 0.9687\n",
      "\n",
      "Epoch 00003: val_loss improved from 0.20409 to 0.13489, saving model to CNN_checkpoint\n",
      "Epoch 4/5\n",
      "346/346 [==============================] - 120s 348ms/step - loss: 0.1224 - accuracy: 0.9541 - val_loss: 0.0472 - val_accuracy: 0.9775\n",
      "\n",
      "Epoch 00004: val_loss improved from 0.13489 to 0.04721, saving model to CNN_checkpoint\n",
      "Epoch 5/5\n",
      "346/346 [==============================] - 119s 345ms/step - loss: 0.1116 - accuracy: 0.9590 - val_loss: 0.0740 - val_accuracy: 0.9779\n",
      "\n",
      "Epoch 00005: val_loss did not improve from 0.04721\n"
     ]
    }
   ],
   "source": [
    "# Creating the 5 Convolutional layered model architecture\n",
    "CNN_model = Sequential()\n",
    "\n",
    "# First Layer\n",
    "CNN_model.add(Conv2D(filters=32, kernel_size=3, padding = 'same', input_shape = [64, 64, 3], kernel_initializer = 'he_normal', activation = 'relu'))\n",
    "CNN_model.add(BatchNormalization())\n",
    "CNN_model.add(MaxPooling2D(3))\n",
    "CNN_model.add(Dropout(0.25))\n",
    "\n",
    "# Second Layer\n",
    "CNN_model.add(Conv2D(filters=64,kernel_size= 3, padding = 'same', kernel_initializer = 'he_normal', activation = 'relu'))\n",
    "CNN_model.add(BatchNormalization())\n",
    "\n",
    "# Third Layer\n",
    "CNN_model.add(Conv2D(filters=64,kernel_size= 3, padding = 'same', kernel_initializer = 'he_normal', activation = 'relu'))\n",
    "CNN_model.add(BatchNormalization())\n",
    "CNN_model.add(MaxPooling2D())\n",
    "CNN_model.add(Dropout(0.25))\n",
    "\n",
    "# Fourth Layer\n",
    "CNN_model.add(Conv2D(filters=128, kernel_size=3, padding = 'same', kernel_initializer = 'he_normal', activation = 'relu'))\n",
    "CNN_model.add(BatchNormalization())\n",
    "\n",
    "# Fifth Layer\n",
    "CNN_model.add(Conv2D(filters=128,kernel_size= 2, padding = 'same', kernel_initializer = 'he_normal', activation = 'relu'))\n",
    "CNN_model.add(BatchNormalization())\n",
    "CNN_model.add(MaxPooling2D())\n",
    "CNN_model.add(Dropout(0.25))\n",
    "\n",
    "# Fully Connected layer\n",
    "CNN_model.add(Flatten())\n",
    "CNN_model.add(Dense(1024, activation = 'relu', kernel_initializer = 'he_normal'))\n",
    "CNN_model.add(BatchNormalization())\n",
    "CNN_model.add(Dropout(0.5))\n",
    "\n",
    "# Classification layer\n",
    "CNN_model.add(Dense(5, activation = 'sigmoid'))\n",
    "\n",
    "checkpoint = ModelCheckpoint('CNN_checkpoint', save_best_only = True, monitor = 'val_loss', verbose = 1)\n",
    "\n",
    "CNN_model.compile(optimizer = 'adam', loss = 'binary_crossentropy', metrics = ['accuracy'])\n",
    "\n",
    "history = CNN_model.fit_generator(training_set, validation_data = test_set, epochs = 5, verbose = 1, callbacks = [checkpoint])"
   ]
  },
  {
   "cell_type": "code",
   "execution_count": 59,
   "metadata": {
    "collapsed": false,
    "deletable": true,
    "editable": true
   },
   "outputs": [
    {
     "name": "stdout",
     "output_type": "stream",
     "text": [
      "Epoch 1/10\n",
      "346/346 [==============================] - 118s 342ms/step - loss: 0.3374 - accuracy: 0.8643 - val_loss: 0.0505 - val_accuracy: 0.9388\n",
      "\n",
      "Epoch 00001: val_loss improved from inf to 0.05051, saving model to CNN_checkpoint\n",
      "Epoch 2/10\n",
      "346/346 [==============================] - 116s 335ms/step - loss: 0.1726 - accuracy: 0.9352 - val_loss: 0.1809 - val_accuracy: 0.9678\n",
      "\n",
      "Epoch 00002: val_loss did not improve from 0.05051\n",
      "Epoch 3/10\n",
      "346/346 [==============================] - 117s 337ms/step - loss: 0.1387 - accuracy: 0.9484 - val_loss: 0.0563 - val_accuracy: 0.9710\n",
      "\n",
      "Epoch 00003: val_loss did not improve from 0.05051\n",
      "Epoch 4/10\n",
      "346/346 [==============================] - 117s 338ms/step - loss: 0.1190 - accuracy: 0.9562 - val_loss: 0.0943 - val_accuracy: 0.9758\n",
      "\n",
      "Epoch 00004: val_loss did not improve from 0.05051\n",
      "Epoch 5/10\n",
      "346/346 [==============================] - 117s 338ms/step - loss: 0.1077 - accuracy: 0.9602 - val_loss: 0.0125 - val_accuracy: 0.9716\n",
      "\n",
      "Epoch 00005: val_loss improved from 0.05051 to 0.01247, saving model to CNN_checkpoint\n",
      "Epoch 6/10\n",
      "346/346 [==============================] - 116s 336ms/step - loss: 0.1033 - accuracy: 0.9617 - val_loss: 0.0550 - val_accuracy: 0.9774\n",
      "\n",
      "Epoch 00006: val_loss did not improve from 0.01247\n",
      "Epoch 7/10\n",
      "346/346 [==============================] - 116s 336ms/step - loss: 0.0955 - accuracy: 0.9647 - val_loss: 0.0557 - val_accuracy: 0.9811\n",
      "\n",
      "Epoch 00007: val_loss did not improve from 0.01247\n",
      "Epoch 8/10\n",
      "346/346 [==============================] - 117s 338ms/step - loss: 0.0880 - accuracy: 0.9673 - val_loss: 0.0768 - val_accuracy: 0.9817\n",
      "\n",
      "Epoch 00008: val_loss did not improve from 0.01247\n",
      "Epoch 9/10\n",
      "346/346 [==============================] - 117s 337ms/step - loss: 0.0794 - accuracy: 0.9711 - val_loss: 0.0299 - val_accuracy: 0.9834\n",
      "\n",
      "Epoch 00009: val_loss did not improve from 0.01247\n",
      "Epoch 10/10\n",
      "346/346 [==============================] - 117s 339ms/step - loss: 0.0817 - accuracy: 0.9710 - val_loss: 0.0012 - val_accuracy: 0.9777\n",
      "\n",
      "Epoch 00010: val_loss improved from 0.01247 to 0.00125, saving model to CNN_checkpoint\n"
     ]
    }
   ],
   "source": [
    "# Creating the 5 Convolutional layered model architecture\n",
    "CNN_model = Sequential()\n",
    "\n",
    "# First Layer\n",
    "CNN_model.add(Conv2D(filters=32, kernel_size=3, padding = 'same', input_shape = [64, 64, 3], kernel_initializer = 'he_normal', activation = 'relu'))\n",
    "CNN_model.add(BatchNormalization())\n",
    "CNN_model.add(MaxPooling2D(3))\n",
    "CNN_model.add(Dropout(0.25))\n",
    "\n",
    "# Second Layer\n",
    "CNN_model.add(Conv2D(filters=64,kernel_size= 3, padding = 'same', kernel_initializer = 'he_normal', activation = 'relu'))\n",
    "CNN_model.add(BatchNormalization())\n",
    "\n",
    "# Third Layer\n",
    "CNN_model.add(Conv2D(filters=64,kernel_size= 3, padding = 'same', kernel_initializer = 'he_normal', activation = 'relu'))\n",
    "CNN_model.add(BatchNormalization())\n",
    "CNN_model.add(MaxPooling2D())\n",
    "CNN_model.add(Dropout(0.25))\n",
    "\n",
    "# Fourth Layer\n",
    "CNN_model.add(Conv2D(filters=128, kernel_size=3, padding = 'same', kernel_initializer = 'he_normal', activation = 'relu'))\n",
    "CNN_model.add(BatchNormalization())\n",
    "\n",
    "# Fifth Layer\n",
    "CNN_model.add(Conv2D(filters=128,kernel_size= 2, padding = 'same', kernel_initializer = 'he_normal', activation = 'relu'))\n",
    "CNN_model.add(BatchNormalization())\n",
    "CNN_model.add(MaxPooling2D())\n",
    "CNN_model.add(Dropout(0.25))\n",
    "\n",
    "# Fully Connected layer\n",
    "CNN_model.add(Flatten())\n",
    "CNN_model.add(Dense(1024, activation = 'relu', kernel_initializer = 'he_normal'))\n",
    "CNN_model.add(BatchNormalization())\n",
    "CNN_model.add(Dropout(0.5))\n",
    "\n",
    "# Classification layer\n",
    "CNN_model.add(Dense(5, activation = 'sigmoid'))\n",
    "\n",
    "checkpoint = ModelCheckpoint('CNN_checkpoint', save_best_only = True, monitor = 'val_loss', verbose = 1)\n",
    "\n",
    "CNN_model.compile(optimizer = 'adam', loss = 'binary_crossentropy', metrics = ['accuracy'])\n",
    "\n",
    "history = CNN_model.fit_generator(training_set, validation_data = test_set, epochs = 10, verbose = 1, callbacks = [checkpoint])"
   ]
  },
  {
   "cell_type": "code",
   "execution_count": 61,
   "metadata": {
    "collapsed": false,
    "deletable": true,
    "editable": true
   },
   "outputs": [
    {
     "data": {
      "image/png": "[encoded data removed]",
      "text/plain": [
       "<Figure size 432x288 with 1 Axes>"
      ]
     },
     "metadata": {
      "needs_background": "light"
     },
     "output_type": "display_data"
    },
    {
     "data": {
      "text/plain": [
       "('pants', 0.9998182)"
      ]
     },
     "execution_count": 61,
     "metadata": {},
     "output_type": "execute_result"
    }
   ],
   "source": [
    "## pant\n",
    "image = cv.imread(r'manshort1.jfif')\n",
    "resized = cv.resize(image, (input_shape[1], input_shape[0]))\n",
    "resized = (resized / 255.0).reshape(-1, input_shape[1], input_shape[0], input_shape[2])\n",
    "preds = CNN_model.predict(resized)\n",
    "preds = zip(['dress','pants','shirt','shoes','shorts'], list(preds[0]))\n",
    "preds = sorted(list(preds), key = lambda z: z[1], reverse = True)[:1][0]\n",
    "plt.imshow(Image.open(\"manshort1.jfif\"))\n",
    "plt.show()\n",
    "preds"
   ]
  },
  {
   "cell_type": "code",
   "execution_count": 65,
   "metadata": {
    "collapsed": false,
    "deletable": true,
    "editable": true
   },
   "outputs": [
    {
     "data": {
      "image/png": "[encoded data removed]",
      "text/plain": [
       "<Figure size 432x288 with 1 Axes>"
      ]
     },
     "metadata": {
      "needs_background": "light"
     },
     "output_type": "display_data"
    },
    {
     "data": {
      "text/plain": [
       "('dress', 0.99996847)"
      ]
     },
     "execution_count": 65,
     "metadata": {},
     "output_type": "execute_result"
    }
   ],
   "source": [
    "# Dresses\n",
    "image = cv.imread(r'dress.jpg')\n",
    "resized = cv.resize(image, (input_shape[1], input_shape[0]))\n",
    "resized = (resized / 255.0).reshape(-1, input_shape[1], input_shape[0], input_shape[2])\n",
    "preds = CNN_model.predict(resized)\n",
    "preds = zip(['dress','pants','shirt','shoes','shorts'], list(preds[0]))\n",
    "preds = sorted(list(preds), key = lambda z: z[1], reverse = True)[:1][0]\n",
    "plt.imshow(Image.open(\"dress.jpg\"))\n",
    "plt.show()\n",
    "preds"
   ]
  },
  {
   "cell_type": "markdown",
   "metadata": {
    "deletable": true,
    "editable": true
   },
   "source": [
    "### Unsupervised Learning"
   ]
  },
  {
   "cell_type": "markdown",
   "metadata": {
    "deletable": true,
    "editable": true
   },
   "source": [
    "# K-means"
   ]
  },
  {
   "cell_type": "code",
   "execution_count": 66,
   "metadata": {
    "collapsed": true,
    "deletable": true,
    "editable": true
   },
   "outputs": [],
   "source": [
    "# Reading the pixel values of all the images into \"data_csv\" dataframe, copying the dataframe to \"data1\" and removing the uneccesary columns.\n",
    "data_csv = pd.read_csv(\"pixels.csv\")\n",
    "data1 = data_csv.copy()\n",
    "data1 = data1.drop(\"Unnamed: 0\",axis=1)"
   ]
  },
  {
   "cell_type": "code",
   "execution_count": 67,
   "metadata": {
    "collapsed": true,
    "deletable": true,
    "editable": true
   },
   "outputs": [],
   "source": [
    "# Loading the categories into \"Categories\" list \n",
    "Categories = data1[\"Category\"]"
   ]
  },
  {
   "cell_type": "code",
   "execution_count": 68,
   "metadata": {
    "collapsed": true,
    "deletable": true,
    "editable": true
   },
   "outputs": [],
   "source": [
    "# Dropping the Category column as we are not considering the labels for training the models.\n",
    "data1 = data1.drop(\"Category\",axis=1)"
   ]
  },
  {
   "cell_type": "code",
   "execution_count": 69,
   "metadata": {
    "collapsed": true,
    "deletable": true,
    "editable": true
   },
   "outputs": [],
   "source": [
    "data3 = data1.copy()"
   ]
  },
  {
   "cell_type": "code",
   "execution_count": 70,
   "metadata": {
    "collapsed": true,
    "deletable": true,
    "editable": true
   },
   "outputs": [],
   "source": [
    "# Applying the Normalization on the entire \"data3\" dataframe\n",
    "data3 = data3/255"
   ]
  },
  {
   "cell_type": "code",
   "execution_count": 72,
   "metadata": {
    "collapsed": true,
    "deletable": true,
    "editable": true
   },
   "outputs": [],
   "source": [
    "# Applying the StandardScaler function to transform the data\n",
    "from sklearn.preprocessing import MinMaxScaler,StandardScaler\n",
    "from sklearn.cluster import KMeans\n",
    "scaler=StandardScaler()\n",
    "scaler.fit(data3)\n",
    "scaled_data=scaler.transform(data3)"
   ]
  },
  {
   "cell_type": "code",
   "execution_count": 73,
   "metadata": {
    "collapsed": true,
    "deletable": true,
    "editable": true
   },
   "outputs": [],
   "source": [
    "# Reducing the dimensions from 900 to 2\n",
    "pca=PCA(n_components=2)\n",
    "pca.fit(scaled_data)\n",
    "x_pca=pca.transform(scaled_data)"
   ]
  },
  {
   "cell_type": "code",
   "execution_count": 74,
   "metadata": {
    "collapsed": false,
    "deletable": true,
    "editable": true
   },
   "outputs": [
    {
     "name": "stdout",
     "output_type": "stream",
     "text": [
      "(11385, 900)\n",
      "(11385, 2)\n"
     ]
    }
   ],
   "source": [
    "# Structure after StandardScaler and Principle component Analysis \n",
    "print(scaled_data.shape)\n",
    "print(x_pca.shape)"
   ]
  },
  {
   "cell_type": "code",
   "execution_count": 75,
   "metadata": {
    "collapsed": true,
    "deletable": true,
    "editable": true
   },
   "outputs": [],
   "source": [
    "# Creating the Sum of Squared errors to plot Elbow curve\n",
    "Sum_of_squared_errors = []\n",
    "K = range(1,20)\n",
    "for k in K:\n",
    "    km = KMeans(n_clusters=k)\n",
    "    km = km.fit(x_pca)\n",
    "    Sum_of_squared_errors.append(km.inertia_)"
   ]
  },
  {
   "cell_type": "code",
   "execution_count": 76,
   "metadata": {
    "collapsed": false,
    "deletable": true,
    "editable": true
   },
   "outputs": [
    {
     "data": {
      "image/png": "[encoded data removed]",
      "text/plain": [
       "<Figure size 432x288 with 1 Axes>"
      ]
     },
     "metadata": {
      "needs_background": "light"
     },
     "output_type": "display_data"
    }
   ],
   "source": [
    "# PLotting the Elbow curve\n",
    "plt.plot(K, Sum_of_squared_errors, 'bx-')\n",
    "plt.xlabel('K Values')\n",
    "plt.ylabel('Sum_of_squared_errors')\n",
    "plt.title('Elbow Method For Optimal k')\n",
    "plt.show()"
   ]
  },
  {
   "cell_type": "code",
   "execution_count": 77,
   "metadata": {
    "collapsed": true,
    "deletable": true,
    "editable": true
   },
   "outputs": [],
   "source": [
    "# Applying the k-means algorithm with 5 Cluster size\n",
    "kmeansmodel = KMeans(n_clusters= 5, init='k-means++', random_state=42)\n",
    "y_kmeans= kmeansmodel.fit_predict(x_pca)\n",
    "cent = kmeansmodel.cluster_centers_\n",
    "cluster_labels = kmeansmodel.labels_"
   ]
  },
  {
   "cell_type": "code",
   "execution_count": 78,
   "metadata": {
    "collapsed": false,
    "deletable": true,
    "editable": true
   },
   "outputs": [
    {
     "data": {
      "image/png": "[encoded data removed]",
      "text/plain": [
       "<Figure size 432x288 with 1 Axes>"
      ]
     },
     "metadata": {
      "needs_background": "light"
     },
     "output_type": "display_data"
    }
   ],
   "source": [
    "# Representing the CLusters in graphical representation\n",
    "plt.scatter(x_pca[y_kmeans==0,0],x_pca[y_kmeans==0,1],s=10, c='purple',label='Cluster1')\n",
    "#plt.show()\n",
    "plt.scatter(x_pca[y_kmeans==1,0],x_pca[y_kmeans==1,1],s=10, c='blue',label='Cluster2')\n",
    "#plt.show()\n",
    "plt.scatter(x_pca[y_kmeans==2,0],x_pca[y_kmeans==2,1],s=10, c='green',label='Cluster3')\n",
    "#plt.show()\n",
    "plt.scatter(x_pca[y_kmeans==3,0],x_pca[y_kmeans==3,1],s=10, c='cyan',label='Cluster4')\n",
    "#plt.show()\n",
    "plt.scatter(x_pca[y_kmeans==4,0],x_pca[y_kmeans==4,1],s=10, c='magenta',label='Cluster5')\n",
    "#plt.show()\n",
    "plt.scatter(kmeansmodel.cluster_centers_[:,0], kmeansmodel.cluster_centers_[:,1],s=50,marker='s', c='black', alpha=0.7, label='Centroids')\n",
    "plt.legend()\n",
    "plt.show()"
   ]
  },
  {
   "cell_type": "code",
   "execution_count": 79,
   "metadata": {
    "collapsed": false,
    "deletable": true,
    "editable": true
   },
   "outputs": [
    {
     "name": "stdout",
     "output_type": "stream",
     "text": [
      "Cluster 0: 0.39218294501214906\n",
      "Cluster 1: 0.36738021866085835\n",
      "Cluster 2: 0.445557106953066\n",
      "Cluster 3: 0.2975579578385649\n",
      "Cluster 4: 0.3331994807762296\n",
      "Average Silhouette Accuracy : 0.377\n"
     ]
    }
   ],
   "source": [
    "# Calculating the accuracies of each Cluster and overall accuracy of the model\n",
    "sample_silhouette_values = metrics.silhouette_samples(x_pca, cluster_labels)\n",
    "\n",
    "means_lst = []\n",
    "for label in range(5):\n",
    "    means_lst.append(sample_silhouette_values[cluster_labels == label].mean())\n",
    "print(\"Cluster 0: \"+ str(means_lst[0]))\n",
    "print(\"Cluster 1: \"+ str(means_lst[1]))\n",
    "print(\"Cluster 2: \"+ str(means_lst[2]))\n",
    "print(\"Cluster 3: \"+ str(means_lst[3]))\n",
    "print(\"Cluster 4: \"+ str(means_lst[4]))\n",
    "print(\"Average Silhouette Accuracy : %0.3f\"% metrics.silhouette_score(x_pca, cluster_labels,metric='euclidean')) "
   ]
  },
  {
   "cell_type": "code",
   "execution_count": 80,
   "metadata": {
    "collapsed": true,
    "deletable": true,
    "editable": true
   },
   "outputs": [],
   "source": [
    "data3[\"Predicted\"]=y_kmeans\n",
    "data3[\"Actual\"]=Categories"
   ]
  },
  {
   "cell_type": "code",
   "execution_count": 81,
   "metadata": {
    "collapsed": true,
    "deletable": true,
    "editable": true
   },
   "outputs": [],
   "source": [
    "data4 = data3[[\"Predicted\",\"Actual\",\"pixel1\"]]"
   ]
  },
  {
   "cell_type": "code",
   "execution_count": 82,
   "metadata": {
    "collapsed": true,
    "deletable": true,
    "editable": true
   },
   "outputs": [],
   "source": [
    "kmeans_interpret = data4.groupby([\"Predicted\",\"Actual\"]).count().reset_index()"
   ]
  },
  {
   "cell_type": "code",
   "execution_count": 83,
   "metadata": {
    "collapsed": true,
    "deletable": true,
    "editable": true
   },
   "outputs": [],
   "source": [
    "kmeans_interpret.columns =[\"Predicted\",\"Actual\",\"Number_of_Images\"]"
   ]
  },
  {
   "cell_type": "code",
   "execution_count": 84,
   "metadata": {
    "collapsed": false,
    "deletable": true,
    "editable": true
   },
   "outputs": [
    {
     "data": {
      "text/html": [
       "<div>\n",
       "<style scoped>\n",
       "    .dataframe tbody tr th:only-of-type {\n",
       "        vertical-align: middle;\n",
       "    }\n",
       "\n",
       "    .dataframe tbody tr th {\n",
       "        vertical-align: top;\n",
       "    }\n",
       "\n",
       "    .dataframe thead th {\n",
       "        text-align: right;\n",
       "    }\n",
       "</style>\n",
       "<table border=\"1\" class=\"dataframe\">\n",
       "  <thead>\n",
       "    <tr style=\"text-align: right;\">\n",
       "      <th></th>\n",
       "      <th>Predicted</th>\n",
       "      <th>Actual</th>\n",
       "      <th>Number_of_Images</th>\n",
       "    </tr>\n",
       "  </thead>\n",
       "  <tbody>\n",
       "    <tr>\n",
       "      <th>0</th>\n",
       "      <td>0</td>\n",
       "      <td>dress</td>\n",
       "      <td>539</td>\n",
       "    </tr>\n",
       "    <tr>\n",
       "      <th>1</th>\n",
       "      <td>0</td>\n",
       "      <td>pants</td>\n",
       "      <td>1350</td>\n",
       "    </tr>\n",
       "    <tr>\n",
       "      <th>2</th>\n",
       "      <td>0</td>\n",
       "      <td>shirt</td>\n",
       "      <td>476</td>\n",
       "    </tr>\n",
       "    <tr>\n",
       "      <th>3</th>\n",
       "      <td>0</td>\n",
       "      <td>shoes</td>\n",
       "      <td>976</td>\n",
       "    </tr>\n",
       "    <tr>\n",
       "      <th>4</th>\n",
       "      <td>0</td>\n",
       "      <td>shorts</td>\n",
       "      <td>207</td>\n",
       "    </tr>\n",
       "    <tr>\n",
       "      <th>5</th>\n",
       "      <td>1</td>\n",
       "      <td>dress</td>\n",
       "      <td>528</td>\n",
       "    </tr>\n",
       "    <tr>\n",
       "      <th>6</th>\n",
       "      <td>1</td>\n",
       "      <td>pants</td>\n",
       "      <td>191</td>\n",
       "    </tr>\n",
       "    <tr>\n",
       "      <th>7</th>\n",
       "      <td>1</td>\n",
       "      <td>shirt</td>\n",
       "      <td>127</td>\n",
       "    </tr>\n",
       "    <tr>\n",
       "      <th>8</th>\n",
       "      <td>1</td>\n",
       "      <td>shoes</td>\n",
       "      <td>440</td>\n",
       "    </tr>\n",
       "    <tr>\n",
       "      <th>9</th>\n",
       "      <td>1</td>\n",
       "      <td>shorts</td>\n",
       "      <td>100</td>\n",
       "    </tr>\n",
       "    <tr>\n",
       "      <th>10</th>\n",
       "      <td>2</td>\n",
       "      <td>dress</td>\n",
       "      <td>673</td>\n",
       "    </tr>\n",
       "    <tr>\n",
       "      <th>11</th>\n",
       "      <td>2</td>\n",
       "      <td>pants</td>\n",
       "      <td>578</td>\n",
       "    </tr>\n",
       "    <tr>\n",
       "      <th>12</th>\n",
       "      <td>2</td>\n",
       "      <td>shirt</td>\n",
       "      <td>156</td>\n",
       "    </tr>\n",
       "    <tr>\n",
       "      <th>13</th>\n",
       "      <td>2</td>\n",
       "      <td>shoes</td>\n",
       "      <td>1160</td>\n",
       "    </tr>\n",
       "    <tr>\n",
       "      <th>14</th>\n",
       "      <td>2</td>\n",
       "      <td>shorts</td>\n",
       "      <td>179</td>\n",
       "    </tr>\n",
       "    <tr>\n",
       "      <th>15</th>\n",
       "      <td>3</td>\n",
       "      <td>dress</td>\n",
       "      <td>633</td>\n",
       "    </tr>\n",
       "    <tr>\n",
       "      <th>16</th>\n",
       "      <td>3</td>\n",
       "      <td>pants</td>\n",
       "      <td>357</td>\n",
       "    </tr>\n",
       "    <tr>\n",
       "      <th>17</th>\n",
       "      <td>3</td>\n",
       "      <td>shirt</td>\n",
       "      <td>85</td>\n",
       "    </tr>\n",
       "    <tr>\n",
       "      <th>18</th>\n",
       "      <td>3</td>\n",
       "      <td>shoes</td>\n",
       "      <td>629</td>\n",
       "    </tr>\n",
       "    <tr>\n",
       "      <th>19</th>\n",
       "      <td>3</td>\n",
       "      <td>shorts</td>\n",
       "      <td>129</td>\n",
       "    </tr>\n",
       "    <tr>\n",
       "      <th>20</th>\n",
       "      <td>4</td>\n",
       "      <td>dress</td>\n",
       "      <td>197</td>\n",
       "    </tr>\n",
       "    <tr>\n",
       "      <th>21</th>\n",
       "      <td>4</td>\n",
       "      <td>pants</td>\n",
       "      <td>313</td>\n",
       "    </tr>\n",
       "    <tr>\n",
       "      <th>22</th>\n",
       "      <td>4</td>\n",
       "      <td>shirt</td>\n",
       "      <td>842</td>\n",
       "    </tr>\n",
       "    <tr>\n",
       "      <th>23</th>\n",
       "      <td>4</td>\n",
       "      <td>shoes</td>\n",
       "      <td>213</td>\n",
       "    </tr>\n",
       "    <tr>\n",
       "      <th>24</th>\n",
       "      <td>4</td>\n",
       "      <td>shorts</td>\n",
       "      <td>307</td>\n",
       "    </tr>\n",
       "  </tbody>\n",
       "</table>\n",
       "</div>"
      ],
      "text/plain": [
       "    Predicted  Actual  Number_of_Images\n",
       "0           0   dress               539\n",
       "1           0   pants              1350\n",
       "2           0   shirt               476\n",
       "3           0   shoes               976\n",
       "4           0  shorts               207\n",
       "5           1   dress               528\n",
       "6           1   pants               191\n",
       "7           1   shirt               127\n",
       "8           1   shoes               440\n",
       "9           1  shorts               100\n",
       "10          2   dress               673\n",
       "11          2   pants               578\n",
       "12          2   shirt               156\n",
       "13          2   shoes              1160\n",
       "14          2  shorts               179\n",
       "15          3   dress               633\n",
       "16          3   pants               357\n",
       "17          3   shirt                85\n",
       "18          3   shoes               629\n",
       "19          3  shorts               129\n",
       "20          4   dress               197\n",
       "21          4   pants               313\n",
       "22          4   shirt               842\n",
       "23          4   shoes               213\n",
       "24          4  shorts               307"
      ]
     },
     "execution_count": 84,
     "metadata": {},
     "output_type": "execute_result"
    }
   ],
   "source": [
    "kmeans_interpret"
   ]
  },
  {
   "cell_type": "markdown",
   "metadata": {
    "deletable": true,
    "editable": true
   },
   "source": [
    "## CNN with Kmeans"
   ]
  },
  {
   "cell_type": "code",
   "execution_count": 86,
   "metadata": {
    "collapsed": false,
    "deletable": true,
    "editable": true
   },
   "outputs": [
    {
     "name": "stdout",
     "output_type": "stream",
     "text": [
      "Found 13880 images belonging to 2 classes.\n"
     ]
    }
   ],
   "source": [
    "# Creating the \"kmeans_dataset\" which consists all the images from the dataset\n",
    "dataset = ImageDataGenerator(rescale = 1./255)\n",
    "kmeans_dataset = dataset.flow_from_directory('CNN//',\n",
    "                                            target_size = (224, 224),\n",
    "                                            batch_size = 32,\n",
    "                                            class_mode = 'categorical')"
   ]
  },
  {
   "cell_type": "code",
   "execution_count": 89,
   "metadata": {
    "collapsed": true,
    "deletable": true,
    "editable": true
   },
   "outputs": [],
   "source": [
    "# Creating the 5 Convolutional layered CNN model which is used to extract features from the images.\n",
    "unsupervised_model = Sequential()\n",
    "\n",
    "# First Layer\n",
    "unsupervised_model.add(Conv2D(filters=32, kernel_size=3, padding = 'same', input_shape = [224, 224, 3], kernel_initializer = 'he_normal', activation = 'relu'))\n",
    "unsupervised_model.add(BatchNormalization())\n",
    "unsupervised_model.add(MaxPooling2D(3))\n",
    "unsupervised_model.add(Dropout(0.25))\n",
    "# Second Layer\n",
    "unsupervised_model.add(Conv2D(filters=64,kernel_size= 3, padding = 'same', kernel_initializer = 'he_normal', activation = 'relu'))\n",
    "unsupervised_model.add(BatchNormalization())\n",
    "# Third Layer\n",
    "unsupervised_model.add(Conv2D(filters=64,kernel_size= 3, padding = 'same', kernel_initializer = 'he_normal', activation = 'relu'))\n",
    "unsupervised_model.add(BatchNormalization())\n",
    "unsupervised_model.add(MaxPooling2D())\n",
    "unsupervised_model.add(Dropout(0.25))\n",
    "# Fourth Layer\n",
    "unsupervised_model.add(Conv2D(filters=128, kernel_size=3, padding = 'same', kernel_initializer = 'he_normal', activation = 'relu'))\n",
    "unsupervised_model.add(BatchNormalization())\n",
    "# Fifth Layer\n",
    "unsupervised_model.add(Conv2D(filters=128,kernel_size= 2, padding = 'same', kernel_initializer = 'he_normal', activation = 'relu'))\n",
    "unsupervised_model.add(BatchNormalization())\n",
    "unsupervised_model.add(MaxPooling2D())\n",
    "unsupervised_model.add(Dropout(0.25))\n",
    "# Flatten layer to bring the multi-dimension features to one dimension\n",
    "unsupervised_model.add(Flatten())\n",
    "unsupervised_model.compile(optimizer = 'adam', loss = 'categorical_crossentropy')"
   ]
  },
  {
   "cell_type": "code",
   "execution_count": 90,
   "metadata": {
    "collapsed": true,
    "deletable": true,
    "editable": true
   },
   "outputs": [],
   "source": [
    "# Applying the images to extract the features\n",
    "predicted_features= unsupervised_model.predict(kmeans_dataset)"
   ]
  },
  {
   "cell_type": "code",
   "execution_count": 91,
   "metadata": {
    "collapsed": true,
    "deletable": true,
    "editable": true
   },
   "outputs": [],
   "source": [
    "# Applying the StandardScaler function to transform the data\n",
    "scaler=StandardScaler()\n",
    "scaler.fit(predicted_features)\n",
    "scaled_data=scaler.transform(predicted_features)"
   ]
  },
  {
   "cell_type": "code",
   "execution_count": 92,
   "metadata": {
    "collapsed": true,
    "deletable": true,
    "editable": true
   },
   "outputs": [],
   "source": [
    "# Reducing the dimensions from 900 to 2\n",
    "pca=PCA(n_components=2)\n",
    "pca.fit(scaled_data)\n",
    "x_pca=pca.transform(scaled_data)"
   ]
  },
  {
   "cell_type": "code",
   "execution_count": 93,
   "metadata": {
    "collapsed": true,
    "deletable": true,
    "editable": true
   },
   "outputs": [],
   "source": [
    "# Applying the k-means algorithm with 5 Cluster size\n",
    "kmeansmodel = KMeans(n_clusters= 5, init='k-means++', random_state=728)\n",
    "y_kmeans= kmeansmodel.fit_predict(x_pca)\n",
    "cent = kmeansmodel.cluster_centers_\n",
    "cluster_labels = kmeansmodel.labels_"
   ]
  },
  {
   "cell_type": "code",
   "execution_count": 94,
   "metadata": {
    "collapsed": false,
    "deletable": true,
    "editable": true
   },
   "outputs": [
    {
     "data": {
      "image/png": "[encoded data removed]",
      "text/plain": [
       "<Figure size 432x288 with 1 Axes>"
      ]
     },
     "metadata": {
      "needs_background": "light"
     },
     "output_type": "display_data"
    }
   ],
   "source": [
    "# Representing the CLusters in graphical representation\n",
    "plt.scatter(x_pca[y_kmeans==0,0],x_pca[y_kmeans==0,1],s=10, c='purple',label='Cluster1')\n",
    "plt.show()\n",
    "plt.scatter(x_pca[y_kmeans==1,0],x_pca[y_kmeans==1,1],s=10, c='blue',label='Cluster2')\n",
    "plt.show()\n",
    "plt.scatter(x_pca[y_kmeans==2,0],x_pca[y_kmeans==2,1],s=10, c='green',label='Cluster3')\n",
    "plt.show()\n",
    "plt.scatter(x_pca[y_kmeans==3,0],x_pca[y_kmeans==3,1],s=10, c='cyan',label='Cluster4')\n",
    "plt.show()\n",
    "plt.scatter(x_pca[y_kmeans==4,0],x_pca[y_kmeans==4,1],s=10, c='magenta',label='Cluster5')\n",
    "plt.show()\n",
    "plt.scatter(kmeansmodel.cluster_centers_[:,0], kmeansmodel.cluster_centers_[:,1],s=50,marker='s', c='black', alpha=0.7, label='Centroids')\n",
    "plt.legend()\n",
    "plt.show()"
   ]
  },
  {
   "cell_type": "code",
   "execution_count": 95,
   "metadata": {
    "collapsed": false,
    "deletable": true,
    "editable": true
   },
   "outputs": [
    {
     "name": "stdout",
     "output_type": "stream",
     "text": [
      "Cluster 0: 0.3788321\n",
      "Cluster 1: 0.3347714\n",
      "Cluster 2: 0.36491236\n",
      "Cluster 3: 0.310991\n",
      "Cluster 4: 0.48738664\n",
      "Average Silhouette Accuracy : 0.406\n"
     ]
    }
   ],
   "source": [
    "# Calculating the accuracies of each Cluster and overall accuracy of the model\n",
    "sample_silhouette_values = metrics.silhouette_samples(x_pca, cluster_labels)\n",
    "\n",
    "means_lst = []\n",
    "for label in range(5):\n",
    "    means_lst.append(sample_silhouette_values[cluster_labels == label].mean())\n",
    "print(\"Cluster 0: \"+ str(means_lst[0]))\n",
    "print(\"Cluster 1: \"+ str(means_lst[1]))\n",
    "print(\"Cluster 2: \"+ str(means_lst[2]))\n",
    "print(\"Cluster 3: \"+ str(means_lst[3]))\n",
    "print(\"Cluster 4: \"+ str(means_lst[4]))\n",
    "print(\"Average Silhouette Accuracy : %0.3f\"% metrics.silhouette_score(x_pca, cluster_labels,metric='euclidean'))"
   ]
  },
  {
   "cell_type": "markdown",
   "metadata": {
    "deletable": true,
    "editable": true
   },
   "source": [
    "# VGG16 + K-means"
   ]
  },
  {
   "cell_type": "code",
   "execution_count": 96,
   "metadata": {
    "collapsed": false,
    "deletable": true,
    "editable": true
   },
   "outputs": [
    {
     "name": "stdout",
     "output_type": "stream",
     "text": [
      "Downloading data from https://github.com/fchollet/deep-learning-models/releases/download/v0.1/vgg16_weights_tf_dim_ordering_tf_kernels_notop.h5\n",
      "58892288/58889256 [==============================] - 49s 1us/step\n"
     ]
    }
   ],
   "source": [
    "# Loading the pre-trained VGG16 model with imagenet weights and exluding the Fully connected and Classification layers for transfer learning \n",
    "VGG_model = VGG16(weights='imagenet',include_top=False,input_shape=(224,224,3))"
   ]
  },
  {
   "cell_type": "code",
   "execution_count": 97,
   "metadata": {
    "collapsed": false,
    "deletable": true,
    "editable": true
   },
   "outputs": [
    {
     "name": "stdout",
     "output_type": "stream",
     "text": [
      "Model: \"vgg16\"\n",
      "_________________________________________________________________\n",
      "Layer (type)                 Output Shape              Param #   \n",
      "=================================================================\n",
      "input_1 (InputLayer)         (None, 224, 224, 3)       0         \n",
      "_________________________________________________________________\n",
      "block1_conv1 (Conv2D)        (None, 224, 224, 64)      1792      \n",
      "_________________________________________________________________\n",
      "block1_conv2 (Conv2D)        (None, 224, 224, 64)      36928     \n",
      "_________________________________________________________________\n",
      "block1_pool (MaxPooling2D)   (None, 112, 112, 64)      0         \n",
      "_________________________________________________________________\n",
      "block2_conv1 (Conv2D)        (None, 112, 112, 128)     73856     \n",
      "_________________________________________________________________\n",
      "block2_conv2 (Conv2D)        (None, 112, 112, 128)     147584    \n",
      "_________________________________________________________________\n",
      "block2_pool (MaxPooling2D)   (None, 56, 56, 128)       0         \n",
      "_________________________________________________________________\n",
      "block3_conv1 (Conv2D)        (None, 56, 56, 256)       295168    \n",
      "_________________________________________________________________\n",
      "block3_conv2 (Conv2D)        (None, 56, 56, 256)       590080    \n",
      "_________________________________________________________________\n",
      "block3_conv3 (Conv2D)        (None, 56, 56, 256)       590080    \n",
      "_________________________________________________________________\n",
      "block3_pool (MaxPooling2D)   (None, 28, 28, 256)       0         \n",
      "_________________________________________________________________\n",
      "block4_conv1 (Conv2D)        (None, 28, 28, 512)       1180160   \n",
      "_________________________________________________________________\n",
      "block4_conv2 (Conv2D)        (None, 28, 28, 512)       2359808   \n",
      "_________________________________________________________________\n",
      "block4_conv3 (Conv2D)        (None, 28, 28, 512)       2359808   \n",
      "_________________________________________________________________\n",
      "block4_pool (MaxPooling2D)   (None, 14, 14, 512)       0         \n",
      "_________________________________________________________________\n",
      "block5_conv1 (Conv2D)        (None, 14, 14, 512)       2359808   \n",
      "_________________________________________________________________\n",
      "block5_conv2 (Conv2D)        (None, 14, 14, 512)       2359808   \n",
      "_________________________________________________________________\n",
      "block5_conv3 (Conv2D)        (None, 14, 14, 512)       2359808   \n",
      "_________________________________________________________________\n",
      "block5_pool (MaxPooling2D)   (None, 7, 7, 512)         0         \n",
      "=================================================================\n",
      "Total params: 14,714,688\n",
      "Trainable params: 14,714,688\n",
      "Non-trainable params: 0\n",
      "_________________________________________________________________\n"
     ]
    }
   ],
   "source": [
    "# Summary of VGG16\n",
    "VGG_model.summary()"
   ]
  },
  {
   "cell_type": "code",
   "execution_count": 22,
   "metadata": {
    "collapsed": true,
    "deletable": true,
    "editable": true
   },
   "outputs": [],
   "source": [
    "# Applying the images to extract the features from the images\n",
    "predicted_VGGfeatures= VGG_model.predict(kmeans_dataset)"
   ]
  },
  {
   "cell_type": "code",
   "execution_count": 28,
   "metadata": {
    "collapsed": true,
    "deletable": true,
    "editable": true
   },
   "outputs": [],
   "source": [
    "# taking a copy of the Features\n",
    "to_reshape = predicted_VGGfeatures.copy()"
   ]
  },
  {
   "cell_type": "code",
   "execution_count": 37,
   "metadata": {
    "collapsed": true,
    "deletable": true,
    "editable": true
   },
   "outputs": [],
   "source": [
    "# Reducing the 7x7x512 feature dimensions to 14822x25088 dataframe\n",
    "images_temp = to_reshape.reshape(14822, -1)"
   ]
  },
  {
   "cell_type": "code",
   "execution_count": 43,
   "metadata": {
    "collapsed": true,
    "deletable": true,
    "editable": true
   },
   "outputs": [],
   "source": [
    "# Applying the StandardScaler function to transform the data\n",
    "scaler=StandardScaler()\n",
    "scaler.fit(images_temp)\n",
    "scaled_data=scaler.transform(images_temp)"
   ]
  },
  {
   "cell_type": "code",
   "execution_count": 51,
   "metadata": {
    "collapsed": true,
    "deletable": true,
    "editable": true
   },
   "outputs": [],
   "source": [
    "# Reducing the dimensions from 900 to 2\n",
    "pca=PCA(n_components=2)\n",
    "pca.fit(scaled_data)\n",
    "x_pca=pca.transform(scaled_data)"
   ]
  },
  {
   "cell_type": "code",
   "execution_count": 52,
   "metadata": {
    "collapsed": true,
    "deletable": true,
    "editable": true
   },
   "outputs": [],
   "source": [
    "# Applying the k-means algorithm with 5 Cluster size\n",
    "kmeansmodel = KMeans(n_clusters= 5, init='k-means++', random_state=728)\n",
    "y_kmeans= kmeansmodel.fit_predict(x_pca)\n",
    "cent = kmeansmodel.cluster_centers_\n",
    "cluster_labels = kmeansmodel.labels_"
   ]
  },
  {
   "cell_type": "code",
   "execution_count": 53,
   "metadata": {
    "collapsed": false,
    "deletable": true,
    "editable": true
   },
   "outputs": [
    {
     "data": {
      "image/png": "[encoded data removed]",
      "text/plain": [
       "<Figure size 432x288 with 1 Axes>"
      ]
     },
     "metadata": {
      "needs_background": "light"
     },
     "output_type": "display_data"
    }
   ],
   "source": [
    "# Representing the CLusters in graphical representation\n",
    "plt.scatter(x_pca[y_kmeans==0,0],x_pca[y_kmeans==0,1],s=10, c='purple',label='Cluster1')\n",
    "#plt.show()\n",
    "plt.scatter(x_pca[y_kmeans==1,0],x_pca[y_kmeans==1,1],s=10, c='blue',label='Cluster2')\n",
    "#plt.show()\n",
    "plt.scatter(x_pca[y_kmeans==2,0],x_pca[y_kmeans==2,1],s=10, c='green',label='Cluster3')\n",
    "#plt.show()\n",
    "plt.scatter(x_pca[y_kmeans==3,0],x_pca[y_kmeans==3,1],s=10, c='cyan',label='Cluster4')\n",
    "#plt.show()\n",
    "plt.scatter(x_pca[y_kmeans==4,0],x_pca[y_kmeans==4,1],s=10, c='magenta',label='Cluster5')\n",
    "#plt.show()\n",
    "plt.scatter(kmeansmodel.cluster_centers_[:,0], kmeansmodel.cluster_centers_[:,1],s=50,marker='s', c='black', alpha=0.7, label='Centroids')\n",
    "plt.legend()\n",
    "plt.show()"
   ]
  },
  {
   "cell_type": "code",
   "execution_count": 57,
   "metadata": {
    "collapsed": false,
    "deletable": true,
    "editable": true
   },
   "outputs": [
    {
     "name": "stdout",
     "output_type": "stream",
     "text": [
      "CLuster 0: 0.33333874\n",
      "CLuster 1: 0.4865943\n",
      "CLuster 2: 0.3459716\n",
      "CLuster 3: 0.5480689\n",
      "CLuster 4: 0.500461\n",
      "Average Silhouette Accuracy : 0.446\n"
     ]
    }
   ],
   "source": [
    "# Calculating the accuracies of each Cluster and overall accuracy of the model\n",
    "sample_silhouette_values = metrics.silhouette_samples(x_pca, cluster_labels)\n",
    "\n",
    "means_lst = []\n",
    "for label in range(5):\n",
    "    means_lst.append(sample_silhouette_values[cluster_labels == label].mean())\n",
    "print(\"CLuster 0: \"+ str(means_lst[0]))\n",
    "print(\"CLuster 1: \"+ str(means_lst[1]))\n",
    "print(\"CLuster 2: \"+ str(means_lst[2]))\n",
    "print(\"CLuster 3: \"+ str(means_lst[3]))\n",
    "print(\"CLuster 4: \"+ str(means_lst[4]))\n",
    "print(\"Average Silhouette Accuracy : %0.3f\"% metrics.silhouette_score(x_pca, cluster_labels,metric='euclidean'))"
   ]
  }
 ],
 "metadata": {
  "kernelspec": {
   "display_name": "Python 2",
   "language": "python",
   "name": "python2"
  },
  "language_info": {
   "codemirror_mode": {
    "name": "ipython",
    "version": 2
   },
   "file_extension": ".py",
   "mimetype": "text/x-python",
   "name": "python",
   "nbconvert_exporter": "python",
   "pygments_lexer": "ipython2",
   "version": "2.7.13"
  }
 },
 "nbformat": 4,
 "nbformat_minor": 2
}
